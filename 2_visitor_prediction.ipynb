{
 "cells": [
  {
   "cell_type": "markdown",
   "metadata": {},
   "source": [
    "# Okinawa data visitor prediction using Regression method (Keras and Tensorflow)"
   ]
  },
  {
   "cell_type": "markdown",
   "metadata": {},
   "source": [
    "### Import Libraries"
   ]
  },
  {
   "cell_type": "code",
   "execution_count": 1,
   "metadata": {},
   "outputs": [
    {
     "name": "stdout",
     "output_type": "stream",
     "text": [
      "Requirement already satisfied: seaborn in /home/bidur/.virtualenvs/sm/lib/python3.6/site-packages (0.11.0)\n",
      "Requirement already satisfied: scipy>=1.0 in /home/bidur/.virtualenvs/sm/lib/python3.6/site-packages (from seaborn) (1.5.2)\n",
      "Requirement already satisfied: numpy>=1.15 in /home/bidur/.virtualenvs/sm/lib/python3.6/site-packages (from seaborn) (1.19.1)\n",
      "Requirement already satisfied: pandas>=0.23 in /home/bidur/.virtualenvs/sm/lib/python3.6/site-packages (from seaborn) (1.1.3)\n",
      "Requirement already satisfied: matplotlib>=2.2 in /home/bidur/.virtualenvs/sm/lib/python3.6/site-packages (from seaborn) (3.3.1)\n",
      "Requirement already satisfied: python-dateutil>=2.7.3 in /home/bidur/.virtualenvs/sm/lib/python3.6/site-packages (from pandas>=0.23->seaborn) (2.8.1)\n",
      "Requirement already satisfied: pytz>=2017.2 in /home/bidur/.virtualenvs/sm/lib/python3.6/site-packages (from pandas>=0.23->seaborn) (2020.1)\n",
      "Requirement already satisfied: pillow>=6.2.0 in /home/bidur/.virtualenvs/sm/lib/python3.6/site-packages (from matplotlib>=2.2->seaborn) (7.2.0)\n",
      "Requirement already satisfied: cycler>=0.10 in /home/bidur/.virtualenvs/sm/lib/python3.6/site-packages (from matplotlib>=2.2->seaborn) (0.10.0)\n",
      "Requirement already satisfied: kiwisolver>=1.0.1 in /home/bidur/.virtualenvs/sm/lib/python3.6/site-packages (from matplotlib>=2.2->seaborn) (1.2.0)\n",
      "Requirement already satisfied: certifi>=2020.06.20 in /home/bidur/.virtualenvs/sm/lib/python3.6/site-packages (from matplotlib>=2.2->seaborn) (2020.6.20)\n",
      "Requirement already satisfied: pyparsing!=2.0.4,!=2.1.2,!=2.1.6,>=2.0.3 in /home/bidur/.virtualenvs/sm/lib/python3.6/site-packages (from matplotlib>=2.2->seaborn) (2.4.7)\n",
      "Requirement already satisfied: six>=1.5 in /home/bidur/.virtualenvs/sm/lib/python3.6/site-packages (from python-dateutil>=2.7.3->pandas>=0.23->seaborn) (1.15.0)\n",
      "\u001b[33mWARNING: You are using pip version 20.2.3; however, version 20.2.4 is available.\n",
      "You should consider upgrading via the '/home/bidur/.virtualenvs/sm/bin/python3 -m pip install --upgrade pip' command.\u001b[0m\n"
     ]
    }
   ],
   "source": [
    "! pip install seaborn"
   ]
  },
  {
   "cell_type": "code",
   "execution_count": 2,
   "metadata": {},
   "outputs": [],
   "source": [
    "import pandas as pd\n",
    "import numpy as np\n",
    "import matplotlib.pyplot as plt\n",
    "import seaborn as sns"
   ]
  },
  {
   "cell_type": "markdown",
   "metadata": {},
   "source": [
    "### Load the Dataset"
   ]
  },
  {
   "cell_type": "code",
   "execution_count": 3,
   "metadata": {},
   "outputs": [
    {
     "data": {
      "text/html": [
       "<div>\n",
       "<style scoped>\n",
       "    .dataframe tbody tr th:only-of-type {\n",
       "        vertical-align: middle;\n",
       "    }\n",
       "\n",
       "    .dataframe tbody tr th {\n",
       "        vertical-align: top;\n",
       "    }\n",
       "\n",
       "    .dataframe thead th {\n",
       "        text-align: right;\n",
       "    }\n",
       "</style>\n",
       "<table border=\"1\" class=\"dataframe\">\n",
       "  <thead>\n",
       "    <tr style=\"text-align: right;\">\n",
       "      <th></th>\n",
       "      <th>date</th>\n",
       "      <th>month</th>\n",
       "      <th>day</th>\n",
       "      <th>car_count</th>\n",
       "    </tr>\n",
       "  </thead>\n",
       "  <tbody>\n",
       "    <tr>\n",
       "      <th>0</th>\n",
       "      <td>2019-04-01</td>\n",
       "      <td>4</td>\n",
       "      <td>0</td>\n",
       "      <td>276</td>\n",
       "    </tr>\n",
       "    <tr>\n",
       "      <th>1</th>\n",
       "      <td>2019-04-02</td>\n",
       "      <td>4</td>\n",
       "      <td>1</td>\n",
       "      <td>232</td>\n",
       "    </tr>\n",
       "    <tr>\n",
       "      <th>2</th>\n",
       "      <td>2019-04-03</td>\n",
       "      <td>4</td>\n",
       "      <td>2</td>\n",
       "      <td>353</td>\n",
       "    </tr>\n",
       "    <tr>\n",
       "      <th>3</th>\n",
       "      <td>2019-04-04</td>\n",
       "      <td>4</td>\n",
       "      <td>3</td>\n",
       "      <td>377</td>\n",
       "    </tr>\n",
       "    <tr>\n",
       "      <th>4</th>\n",
       "      <td>2019-04-05</td>\n",
       "      <td>4</td>\n",
       "      <td>4</td>\n",
       "      <td>273</td>\n",
       "    </tr>\n",
       "  </tbody>\n",
       "</table>\n",
       "</div>"
      ],
      "text/plain": [
       "        date  month  day  car_count\n",
       "0 2019-04-01      4    0        276\n",
       "1 2019-04-02      4    1        232\n",
       "2 2019-04-03      4    2        353\n",
       "3 2019-04-04      4    3        377\n",
       "4 2019-04-05      4    4        273"
      ]
     },
     "execution_count": 3,
     "metadata": {},
     "output_type": "execute_result"
    }
   ],
   "source": [
    "csv_data ='data/sendoPreprocessed.csv'\n",
    "df=pd.read_csv(csv_data)\n",
    "df['date']= pd.to_datetime(df['date'])\n",
    "df.head()"
   ]
  },
  {
   "cell_type": "markdown",
   "metadata": {},
   "source": [
    "### Explore Data"
   ]
  },
  {
   "cell_type": "code",
   "execution_count": 4,
   "metadata": {},
   "outputs": [
    {
     "data": {
      "text/html": [
       "<div>\n",
       "<style scoped>\n",
       "    .dataframe tbody tr th:only-of-type {\n",
       "        vertical-align: middle;\n",
       "    }\n",
       "\n",
       "    .dataframe tbody tr th {\n",
       "        vertical-align: top;\n",
       "    }\n",
       "\n",
       "    .dataframe thead th {\n",
       "        text-align: right;\n",
       "    }\n",
       "</style>\n",
       "<table border=\"1\" class=\"dataframe\">\n",
       "  <thead>\n",
       "    <tr style=\"text-align: right;\">\n",
       "      <th></th>\n",
       "      <th>count</th>\n",
       "      <th>mean</th>\n",
       "      <th>std</th>\n",
       "      <th>min</th>\n",
       "      <th>25%</th>\n",
       "      <th>50%</th>\n",
       "      <th>75%</th>\n",
       "      <th>max</th>\n",
       "    </tr>\n",
       "  </thead>\n",
       "  <tbody>\n",
       "    <tr>\n",
       "      <th>month</th>\n",
       "      <td>61.0</td>\n",
       "      <td>6.032787</td>\n",
       "      <td>2.016327</td>\n",
       "      <td>4.0</td>\n",
       "      <td>4.0</td>\n",
       "      <td>8.0</td>\n",
       "      <td>8.0</td>\n",
       "      <td>8.0</td>\n",
       "    </tr>\n",
       "    <tr>\n",
       "      <th>day</th>\n",
       "      <td>61.0</td>\n",
       "      <td>2.967213</td>\n",
       "      <td>2.008044</td>\n",
       "      <td>0.0</td>\n",
       "      <td>1.0</td>\n",
       "      <td>3.0</td>\n",
       "      <td>5.0</td>\n",
       "      <td>6.0</td>\n",
       "    </tr>\n",
       "    <tr>\n",
       "      <th>car_count</th>\n",
       "      <td>61.0</td>\n",
       "      <td>340.950820</td>\n",
       "      <td>78.923893</td>\n",
       "      <td>201.0</td>\n",
       "      <td>277.0</td>\n",
       "      <td>333.0</td>\n",
       "      <td>385.0</td>\n",
       "      <td>572.0</td>\n",
       "    </tr>\n",
       "  </tbody>\n",
       "</table>\n",
       "</div>"
      ],
      "text/plain": [
       "           count        mean        std    min    25%    50%    75%    max\n",
       "month       61.0    6.032787   2.016327    4.0    4.0    8.0    8.0    8.0\n",
       "day         61.0    2.967213   2.008044    0.0    1.0    3.0    5.0    6.0\n",
       "car_count   61.0  340.950820  78.923893  201.0  277.0  333.0  385.0  572.0"
      ]
     },
     "execution_count": 4,
     "metadata": {},
     "output_type": "execute_result"
    }
   ],
   "source": [
    "df.describe().transpose()"
   ]
  },
  {
   "cell_type": "markdown",
   "metadata": {},
   "source": [
    "#### chek and remove null values , if any"
   ]
  },
  {
   "cell_type": "code",
   "execution_count": 5,
   "metadata": {},
   "outputs": [
    {
     "name": "stdout",
     "output_type": "stream",
     "text": [
      "<class 'pandas.core.frame.DataFrame'>\n",
      "RangeIndex: 61 entries, 0 to 60\n",
      "Data columns (total 4 columns):\n",
      " #   Column     Non-Null Count  Dtype         \n",
      "---  ------     --------------  -----         \n",
      " 0   date       61 non-null     datetime64[ns]\n",
      " 1   month      61 non-null     int64         \n",
      " 2   day        61 non-null     int64         \n",
      " 3   car_count  61 non-null     int64         \n",
      "dtypes: datetime64[ns](1), int64(3)\n",
      "memory usage: 2.0 KB\n"
     ]
    }
   ],
   "source": [
    "df.info()"
   ]
  },
  {
   "cell_type": "code",
   "execution_count": 6,
   "metadata": {},
   "outputs": [
    {
     "data": {
      "text/plain": [
       "date         0\n",
       "month        0\n",
       "day          0\n",
       "car_count    0\n",
       "dtype: int64"
      ]
     },
     "execution_count": 6,
     "metadata": {},
     "output_type": "execute_result"
    }
   ],
   "source": [
    "df.isnull().sum()"
   ]
  },
  {
   "cell_type": "code",
   "execution_count": 7,
   "metadata": {},
   "outputs": [],
   "source": [
    "df.dropna(inplace=True)"
   ]
  },
  {
   "cell_type": "markdown",
   "metadata": {},
   "source": [
    "### scatter plot"
   ]
  },
  {
   "cell_type": "code",
   "execution_count": 8,
   "metadata": {},
   "outputs": [
    {
     "data": {
      "text/plain": [
       "<AxesSubplot:xlabel='date', ylabel='car_count'>"
      ]
     },
     "execution_count": 8,
     "metadata": {},
     "output_type": "execute_result"
    },
    {
     "data": {
      "image/png": "[encoded data removed]",
      "text/plain": [
       "<Figure size 432x288 with 1 Axes>"
      ]
     },
     "metadata": {
      "needs_background": "light"
     },
     "output_type": "display_data"
    }
   ],
   "source": [
    "sns.scatterplot(data=df, x=\"date\", y=\"car_count\")"
   ]
  },
  {
   "cell_type": "code",
   "execution_count": 9,
   "metadata": {},
   "outputs": [
    {
     "name": "stderr",
     "output_type": "stream",
     "text": [
      "/home/bidur/.virtualenvs/sm/lib/python3.6/site-packages/seaborn/distributions.py:2551: FutureWarning: `distplot` is a deprecated function and will be removed in a future version. Please adapt your code to use either `displot` (a figure-level function with similar flexibility) or `histplot` (an axes-level function for histograms).\n",
      "  warnings.warn(msg, FutureWarning)\n"
     ]
    },
    {
     "data": {
      "text/plain": [
       "<AxesSubplot:xlabel='car_count', ylabel='Density'>"
      ]
     },
     "execution_count": 9,
     "metadata": {},
     "output_type": "execute_result"
    },
    {
     "data": {
      "image/png": "[encoded data removed]",
      "text/plain": [
       "<Figure size 360x288 with 1 Axes>"
      ]
     },
     "metadata": {
      "needs_background": "light"
     },
     "output_type": "display_data"
    }
   ],
   "source": [
    "plt.figure(figsize=(5,4))\n",
    "sns.distplot(df['car_count'])"
   ]
  },
  {
   "cell_type": "markdown",
   "metadata": {},
   "source": [
    "### Check correlation among the variables"
   ]
  },
  {
   "cell_type": "code",
   "execution_count": 10,
   "metadata": {},
   "outputs": [
    {
     "data": {
      "text/html": [
       "<div>\n",
       "<style scoped>\n",
       "    .dataframe tbody tr th:only-of-type {\n",
       "        vertical-align: middle;\n",
       "    }\n",
       "\n",
       "    .dataframe tbody tr th {\n",
       "        vertical-align: top;\n",
       "    }\n",
       "\n",
       "    .dataframe thead th {\n",
       "        text-align: right;\n",
       "    }\n",
       "</style>\n",
       "<table border=\"1\" class=\"dataframe\">\n",
       "  <thead>\n",
       "    <tr style=\"text-align: right;\">\n",
       "      <th></th>\n",
       "      <th>month</th>\n",
       "      <th>day</th>\n",
       "      <th>car_count</th>\n",
       "    </tr>\n",
       "  </thead>\n",
       "  <tbody>\n",
       "    <tr>\n",
       "      <th>month</th>\n",
       "      <td>1.000000</td>\n",
       "      <td>0.066132</td>\n",
       "      <td>0.250739</td>\n",
       "    </tr>\n",
       "    <tr>\n",
       "      <th>day</th>\n",
       "      <td>0.066132</td>\n",
       "      <td>1.000000</td>\n",
       "      <td>-0.059218</td>\n",
       "    </tr>\n",
       "    <tr>\n",
       "      <th>car_count</th>\n",
       "      <td>0.250739</td>\n",
       "      <td>-0.059218</td>\n",
       "      <td>1.000000</td>\n",
       "    </tr>\n",
       "  </tbody>\n",
       "</table>\n",
       "</div>"
      ],
      "text/plain": [
       "              month       day  car_count\n",
       "month      1.000000  0.066132   0.250739\n",
       "day        0.066132  1.000000  -0.059218\n",
       "car_count  0.250739 -0.059218   1.000000"
      ]
     },
     "execution_count": 10,
     "metadata": {},
     "output_type": "execute_result"
    }
   ],
   "source": [
    "df.corr()"
   ]
  },
  {
   "cell_type": "code",
   "execution_count": 11,
   "metadata": {},
   "outputs": [
    {
     "data": {
      "text/plain": [
       "<AxesSubplot:>"
      ]
     },
     "execution_count": 11,
     "metadata": {},
     "output_type": "execute_result"
    },
    {
     "data": {
      "image/png": "[encoded data removed]",
      "text/plain": [
       "<Figure size 360x288 with 2 Axes>"
      ]
     },
     "metadata": {
      "needs_background": "light"
     },
     "output_type": "display_data"
    }
   ],
   "source": [
    "plt.figure(figsize=(5,4))\n",
    "sns.heatmap(df.corr(), annot=True)"
   ]
  },
  {
   "cell_type": "markdown",
   "metadata": {},
   "source": [
    "#### Drop date as we are not using it for prediction"
   ]
  },
  {
   "cell_type": "code",
   "execution_count": 12,
   "metadata": {},
   "outputs": [
    {
     "data": {
      "text/plain": [
       "Index(['month', 'day', 'car_count'], dtype='object')"
      ]
     },
     "execution_count": 12,
     "metadata": {},
     "output_type": "execute_result"
    }
   ],
   "source": [
    "df=df.drop('date', axis=1)\n",
    "df.columns"
   ]
  },
  {
   "cell_type": "markdown",
   "metadata": {},
   "source": [
    "# Convert categorical/nominal data into dummy/indicator variables\n",
    "Categorical variables need to be recoded into a series of variables which can then be entered into the regression model. Here days ( Monday:0 ...Sunday:6) and months ( april:4....August:8) are such variables. To include them in a regression model, we will encode them accordingly."
   ]
  },
  {
   "cell_type": "code",
   "execution_count": 13,
   "metadata": {},
   "outputs": [],
   "source": [
    "X = df.drop('car_count',axis=1)\n",
    "y = df['car_count']"
   ]
  },
  {
   "cell_type": "code",
   "execution_count": 14,
   "metadata": {},
   "outputs": [
    {
     "data": {
      "text/html": [
       "<div>\n",
       "<style scoped>\n",
       "    .dataframe tbody tr th:only-of-type {\n",
       "        vertical-align: middle;\n",
       "    }\n",
       "\n",
       "    .dataframe tbody tr th {\n",
       "        vertical-align: top;\n",
       "    }\n",
       "\n",
       "    .dataframe thead th {\n",
       "        text-align: right;\n",
       "    }\n",
       "</style>\n",
       "<table border=\"1\" class=\"dataframe\">\n",
       "  <thead>\n",
       "    <tr style=\"text-align: right;\">\n",
       "      <th></th>\n",
       "      <th>month</th>\n",
       "      <th>friday</th>\n",
       "      <th>monday</th>\n",
       "      <th>saturday</th>\n",
       "      <th>sunday</th>\n",
       "      <th>thursday</th>\n",
       "      <th>tuesday</th>\n",
       "      <th>wednesday</th>\n",
       "    </tr>\n",
       "  </thead>\n",
       "  <tbody>\n",
       "    <tr>\n",
       "      <th>0</th>\n",
       "      <td>4</td>\n",
       "      <td>0</td>\n",
       "      <td>1</td>\n",
       "      <td>0</td>\n",
       "      <td>0</td>\n",
       "      <td>0</td>\n",
       "      <td>0</td>\n",
       "      <td>0</td>\n",
       "    </tr>\n",
       "    <tr>\n",
       "      <th>1</th>\n",
       "      <td>4</td>\n",
       "      <td>0</td>\n",
       "      <td>0</td>\n",
       "      <td>0</td>\n",
       "      <td>0</td>\n",
       "      <td>0</td>\n",
       "      <td>1</td>\n",
       "      <td>0</td>\n",
       "    </tr>\n",
       "    <tr>\n",
       "      <th>2</th>\n",
       "      <td>4</td>\n",
       "      <td>0</td>\n",
       "      <td>0</td>\n",
       "      <td>0</td>\n",
       "      <td>0</td>\n",
       "      <td>0</td>\n",
       "      <td>0</td>\n",
       "      <td>1</td>\n",
       "    </tr>\n",
       "    <tr>\n",
       "      <th>3</th>\n",
       "      <td>4</td>\n",
       "      <td>0</td>\n",
       "      <td>0</td>\n",
       "      <td>0</td>\n",
       "      <td>0</td>\n",
       "      <td>1</td>\n",
       "      <td>0</td>\n",
       "      <td>0</td>\n",
       "    </tr>\n",
       "    <tr>\n",
       "      <th>4</th>\n",
       "      <td>4</td>\n",
       "      <td>1</td>\n",
       "      <td>0</td>\n",
       "      <td>0</td>\n",
       "      <td>0</td>\n",
       "      <td>0</td>\n",
       "      <td>0</td>\n",
       "      <td>0</td>\n",
       "    </tr>\n",
       "    <tr>\n",
       "      <th>5</th>\n",
       "      <td>4</td>\n",
       "      <td>0</td>\n",
       "      <td>0</td>\n",
       "      <td>1</td>\n",
       "      <td>0</td>\n",
       "      <td>0</td>\n",
       "      <td>0</td>\n",
       "      <td>0</td>\n",
       "    </tr>\n",
       "    <tr>\n",
       "      <th>6</th>\n",
       "      <td>4</td>\n",
       "      <td>0</td>\n",
       "      <td>0</td>\n",
       "      <td>0</td>\n",
       "      <td>1</td>\n",
       "      <td>0</td>\n",
       "      <td>0</td>\n",
       "      <td>0</td>\n",
       "    </tr>\n",
       "  </tbody>\n",
       "</table>\n",
       "</div>"
      ],
      "text/plain": [
       "   month  friday  monday  saturday  sunday  thursday  tuesday  wednesday\n",
       "0      4       0       1         0       0         0        0          0\n",
       "1      4       0       0         0       0         0        1          0\n",
       "2      4       0       0         0       0         0        0          1\n",
       "3      4       0       0         0       0         1        0          0\n",
       "4      4       1       0         0       0         0        0          0\n",
       "5      4       0       0         1       0         0        0          0\n",
       "6      4       0       0         0       1         0        0          0"
      ]
     },
     "execution_count": 14,
     "metadata": {},
     "output_type": "execute_result"
    }
   ],
   "source": [
    "\n",
    "X['day'] = X['day'].map({0: 'monday', 1: 'tuesday', 2: 'wednesday', 3: 'thursday', 4: 'friday', 5: 'saturday', 6: 'sunday' })\n",
    "X = pd.get_dummies(X, prefix='', prefix_sep='',columns=['day'])\n",
    "X.head(7)"
   ]
  },
  {
   "cell_type": "markdown",
   "metadata": {},
   "source": [
    "#### Now, apply for months"
   ]
  },
  {
   "cell_type": "code",
   "execution_count": 15,
   "metadata": {},
   "outputs": [
    {
     "data": {
      "text/plain": [
       "array([4, 8])"
      ]
     },
     "execution_count": 15,
     "metadata": {},
     "output_type": "execute_result"
    }
   ],
   "source": [
    "df.month.unique()"
   ]
  },
  {
   "cell_type": "code",
   "execution_count": 16,
   "metadata": {},
   "outputs": [
    {
     "data": {
      "text/html": [
       "<div>\n",
       "<style scoped>\n",
       "    .dataframe tbody tr th:only-of-type {\n",
       "        vertical-align: middle;\n",
       "    }\n",
       "\n",
       "    .dataframe tbody tr th {\n",
       "        vertical-align: top;\n",
       "    }\n",
       "\n",
       "    .dataframe thead th {\n",
       "        text-align: right;\n",
       "    }\n",
       "</style>\n",
       "<table border=\"1\" class=\"dataframe\">\n",
       "  <thead>\n",
       "    <tr style=\"text-align: right;\">\n",
       "      <th></th>\n",
       "      <th>friday</th>\n",
       "      <th>monday</th>\n",
       "      <th>saturday</th>\n",
       "      <th>sunday</th>\n",
       "      <th>thursday</th>\n",
       "      <th>tuesday</th>\n",
       "      <th>wednesday</th>\n",
       "      <th>April</th>\n",
       "      <th>Aug</th>\n",
       "    </tr>\n",
       "  </thead>\n",
       "  <tbody>\n",
       "    <tr>\n",
       "      <th>0</th>\n",
       "      <td>0</td>\n",
       "      <td>1</td>\n",
       "      <td>0</td>\n",
       "      <td>0</td>\n",
       "      <td>0</td>\n",
       "      <td>0</td>\n",
       "      <td>0</td>\n",
       "      <td>1</td>\n",
       "      <td>0</td>\n",
       "    </tr>\n",
       "    <tr>\n",
       "      <th>1</th>\n",
       "      <td>0</td>\n",
       "      <td>0</td>\n",
       "      <td>0</td>\n",
       "      <td>0</td>\n",
       "      <td>0</td>\n",
       "      <td>1</td>\n",
       "      <td>0</td>\n",
       "      <td>1</td>\n",
       "      <td>0</td>\n",
       "    </tr>\n",
       "  </tbody>\n",
       "</table>\n",
       "</div>"
      ],
      "text/plain": [
       "   friday  monday  saturday  sunday  thursday  tuesday  wednesday  April  Aug\n",
       "0       0       1         0       0         0        0          0      1    0\n",
       "1       0       0         0       0         0        1          0      1    0"
      ]
     },
     "execution_count": 16,
     "metadata": {},
     "output_type": "execute_result"
    }
   ],
   "source": [
    "X['month'] = X['month'].map({1: 'Jan', 2: 'Feb',  3: 'March', 4: 'April', 5: 'May', 6: 'June', 7: 'July', 8: 'Aug', 9: 'Sept', 10: 'Oct', 11: 'Nov', 12: 'Dec' })\n",
    "X = pd.get_dummies(X, prefix='', prefix_sep='',columns=['month'])\n",
    "X.head(2)"
   ]
  },
  {
   "cell_type": "markdown",
   "metadata": {},
   "source": [
    "# Scaling and Train Test Split"
   ]
  },
  {
   "cell_type": "code",
   "execution_count": 17,
   "metadata": {},
   "outputs": [],
   "source": [
    "from sklearn.model_selection import train_test_split\n",
    "X_train, X_test, y_train, y_test = train_test_split(X,y,test_size=0.3,random_state=42)"
   ]
  },
  {
   "cell_type": "markdown",
   "metadata": {},
   "source": [
    "### Scaling\n",
    "\n",
    "*The main idea behind normalization/standardization is always the same. Variables that are measured at different scales do not contribute equally to the model fitting & model learned function and might end up creating a bias. Thus, to deal with this potential problem feature-wise normalization such as MinMax Scaling is usually used prior to model fitting.* [Source:https://bit.ly/2KTulBB]"
   ]
  },
  {
   "cell_type": "code",
   "execution_count": 18,
   "metadata": {},
   "outputs": [],
   "source": [
    "from sklearn.preprocessing import MinMaxScaler"
   ]
  },
  {
   "cell_type": "code",
   "execution_count": 19,
   "metadata": {},
   "outputs": [],
   "source": [
    "scaler = MinMaxScaler()\n",
    "X_train= scaler.fit_transform(X_train)\n",
    "X_test = scaler.transform(X_test)"
   ]
  },
  {
   "cell_type": "markdown",
   "metadata": {},
   "source": [
    "#  Model Creation"
   ]
  },
  {
   "cell_type": "code",
   "execution_count": 35,
   "metadata": {},
   "outputs": [],
   "source": [
    "from tensorflow.keras.models import Sequential\n",
    "from tensorflow.keras.layers import Dense\n",
    "from tensorflow.keras.optimizers import RMSprop\n",
    "from tensorflow.keras.layers import Dropout\n",
    "import keras\n",
    "\n",
    "model = Sequential([\n",
    "     Dense(64, activation='relu', input_shape=[X_test.shape[1]]),\n",
    "     #Dropout(0.5), removing dropout improved in this particular example\n",
    "     Dense(64, activation='relu'),\n",
    "     Dense(1)\n",
    "  ])\n",
    "\n",
    "rmsprop = RMSprop(0.001)\n",
    "\n",
    "model.compile(loss='mean_squared_error',\n",
    "                optimizer=rmsprop,\n",
    "                metrics=['mean_absolute_error', 'mean_squared_error'])"
   ]
  },
  {
   "cell_type": "markdown",
   "metadata": {},
   "source": [
    "### Training"
   ]
  },
  {
   "cell_type": "code",
   "execution_count": 21,
   "metadata": {},
   "outputs": [
    {
     "name": "stdout",
     "output_type": "stream",
     "text": [
      "Train on 42 samples, validate on 19 samples\n",
      "Epoch 1/100\n",
      "42/42 [==============================] - 0s 10ms/sample - loss: 122040.2180 - mean_absolute_error: 339.8952 - mean_squared_error: 122040.2109 - val_loss: 122540.3709 - val_mean_absolute_error: 342.4347 - val_mean_squared_error: 122540.3672\n",
      "Epoch 2/100\n",
      "42/42 [==============================] - 0s 480us/sample - loss: 121834.8776 - mean_absolute_error: 339.5960 - mean_squared_error: 121834.8828 - val_loss: 122370.2743 - val_mean_absolute_error: 342.1845 - val_mean_squared_error: 122370.2734\n",
      "Epoch 3/100\n",
      "42/42 [==============================] - 0s 464us/sample - loss: 121658.9531 - mean_absolute_error: 339.3335 - mean_squared_error: 121658.9531 - val_loss: 122202.2455 - val_mean_absolute_error: 341.9375 - val_mean_squared_error: 122202.2500\n",
      "Epoch 4/100\n",
      "42/42 [==============================] - 0s 466us/sample - loss: 121483.4092 - mean_absolute_error: 339.0751 - mean_squared_error: 121483.4062 - val_loss: 122029.0798 - val_mean_absolute_error: 341.6837 - val_mean_squared_error: 122029.0781\n",
      "Epoch 5/100\n",
      "42/42 [==============================] - 0s 464us/sample - loss: 121299.6451 - mean_absolute_error: 338.8051 - mean_squared_error: 121299.6406 - val_loss: 121847.1217 - val_mean_absolute_error: 341.4161 - val_mean_squared_error: 121847.1172\n",
      "Epoch 6/100\n",
      "42/42 [==============================] - 0s 464us/sample - loss: 121106.1972 - mean_absolute_error: 338.5186 - mean_squared_error: 121106.1875 - val_loss: 121652.5654 - val_mean_absolute_error: 341.1303 - val_mean_squared_error: 121652.5625\n",
      "Epoch 7/100\n",
      "42/42 [==============================] - 0s 479us/sample - loss: 120903.0156 - mean_absolute_error: 338.2151 - mean_squared_error: 120903.0234 - val_loss: 121450.1850 - val_mean_absolute_error: 340.8323 - val_mean_squared_error: 121450.1875\n",
      "Epoch 8/100\n",
      "42/42 [==============================] - 0s 488us/sample - loss: 120685.9967 - mean_absolute_error: 337.8924 - mean_squared_error: 120686.0000 - val_loss: 121227.1674 - val_mean_absolute_error: 340.5042 - val_mean_squared_error: 121227.1719\n",
      "Epoch 9/100\n",
      "42/42 [==============================] - 0s 481us/sample - loss: 120454.1983 - mean_absolute_error: 337.5456 - mean_squared_error: 120454.2031 - val_loss: 120986.5625 - val_mean_absolute_error: 340.1502 - val_mean_squared_error: 120986.5625\n",
      "Epoch 10/100\n",
      "42/42 [==============================] - 0s 471us/sample - loss: 120201.1306 - mean_absolute_error: 337.1656 - mean_squared_error: 120201.1328 - val_loss: 120723.2488 - val_mean_absolute_error: 339.7626 - val_mean_squared_error: 120723.2500\n",
      "Epoch 11/100\n",
      "42/42 [==============================] - 0s 512us/sample - loss: 119923.8966 - mean_absolute_error: 336.7613 - mean_squared_error: 119923.8906 - val_loss: 120430.5596 - val_mean_absolute_error: 339.3308 - val_mean_squared_error: 120430.5547\n",
      "Epoch 12/100\n",
      "42/42 [==============================] - 0s 451us/sample - loss: 119621.3594 - mean_absolute_error: 336.3058 - mean_squared_error: 119621.3594 - val_loss: 120123.2829 - val_mean_absolute_error: 338.8769 - val_mean_squared_error: 120123.2891\n",
      "Epoch 13/100\n",
      "42/42 [==============================] - 0s 472us/sample - loss: 119298.9658 - mean_absolute_error: 335.8330 - mean_squared_error: 119298.9609 - val_loss: 119786.8721 - val_mean_absolute_error: 338.3787 - val_mean_squared_error: 119786.8672\n",
      "Epoch 14/100\n",
      "42/42 [==============================] - 0s 441us/sample - loss: 118953.8207 - mean_absolute_error: 335.3111 - mean_squared_error: 118953.8203 - val_loss: 119436.4042 - val_mean_absolute_error: 337.8589 - val_mean_squared_error: 119436.4062\n",
      "Epoch 15/100\n",
      "42/42 [==============================] - 0s 504us/sample - loss: 118588.8687 - mean_absolute_error: 334.7607 - mean_squared_error: 118588.8672 - val_loss: 119051.6809 - val_mean_absolute_error: 337.2884 - val_mean_squared_error: 119051.6875\n",
      "Epoch 16/100\n",
      "42/42 [==============================] - 0s 454us/sample - loss: 118197.6272 - mean_absolute_error: 334.1744 - mean_squared_error: 118197.6172 - val_loss: 118645.6871 - val_mean_absolute_error: 336.6853 - val_mean_squared_error: 118645.6875\n",
      "Epoch 17/100\n",
      "42/42 [==============================] - 0s 482us/sample - loss: 117782.3155 - mean_absolute_error: 333.5374 - mean_squared_error: 117782.3125 - val_loss: 118221.6702 - val_mean_absolute_error: 336.0544 - val_mean_squared_error: 118221.6719\n",
      "Epoch 18/100\n",
      "42/42 [==============================] - 0s 499us/sample - loss: 117348.7760 - mean_absolute_error: 332.8900 - mean_squared_error: 117348.7891 - val_loss: 117761.9087 - val_mean_absolute_error: 335.3692 - val_mean_squared_error: 117761.9062\n",
      "Epoch 19/100\n",
      "42/42 [==============================] - 0s 493us/sample - loss: 116884.2288 - mean_absolute_error: 332.1761 - mean_squared_error: 116884.2266 - val_loss: 117280.4696 - val_mean_absolute_error: 334.6502 - val_mean_squared_error: 117280.4766\n",
      "Epoch 20/100\n",
      "42/42 [==============================] - 0s 465us/sample - loss: 116392.5952 - mean_absolute_error: 331.4358 - mean_squared_error: 116392.5938 - val_loss: 116772.8257 - val_mean_absolute_error: 333.8896 - val_mean_squared_error: 116772.8281\n",
      "Epoch 21/100\n",
      "42/42 [==============================] - 0s 490us/sample - loss: 115870.1756 - mean_absolute_error: 330.6501 - mean_squared_error: 115870.1641 - val_loss: 116228.3602 - val_mean_absolute_error: 333.0731 - val_mean_squared_error: 116228.3516\n",
      "Epoch 22/100\n",
      "42/42 [==============================] - 0s 463us/sample - loss: 115310.4520 - mean_absolute_error: 329.8112 - mean_squared_error: 115310.4531 - val_loss: 115651.9243 - val_mean_absolute_error: 332.2061 - val_mean_squared_error: 115651.9219\n",
      "Epoch 23/100\n",
      "42/42 [==============================] - 0s 507us/sample - loss: 114717.9725 - mean_absolute_error: 328.9224 - mean_squared_error: 114717.9766 - val_loss: 115040.1513 - val_mean_absolute_error: 331.2829 - val_mean_squared_error: 115040.1562\n",
      "Epoch 24/100\n",
      "42/42 [==============================] - 0s 484us/sample - loss: 114095.1659 - mean_absolute_error: 327.9480 - mean_squared_error: 114095.1641 - val_loss: 114416.2644 - val_mean_absolute_error: 330.3393 - val_mean_squared_error: 114416.2656\n",
      "Epoch 25/100\n",
      "42/42 [==============================] - 0s 506us/sample - loss: 113448.0956 - mean_absolute_error: 326.9631 - mean_squared_error: 113448.0938 - val_loss: 113757.3030 - val_mean_absolute_error: 329.3386 - val_mean_squared_error: 113757.3047\n",
      "Epoch 26/100\n",
      "42/42 [==============================] - 0s 480us/sample - loss: 112771.0201 - mean_absolute_error: 325.9434 - mean_squared_error: 112771.0234 - val_loss: 113059.0822 - val_mean_absolute_error: 328.2764 - val_mean_squared_error: 113059.0781\n",
      "Epoch 27/100\n",
      "42/42 [==============================] - 0s 471us/sample - loss: 112060.3717 - mean_absolute_error: 324.8382 - mean_squared_error: 112060.3828 - val_loss: 112337.0206 - val_mean_absolute_error: 327.1742 - val_mean_squared_error: 112337.0234\n",
      "Epoch 28/100\n",
      "42/42 [==============================] - 0s 487us/sample - loss: 111329.9174 - mean_absolute_error: 323.7114 - mean_squared_error: 111329.9141 - val_loss: 111585.1020 - val_mean_absolute_error: 326.0233 - val_mean_squared_error: 111585.1016\n",
      "Epoch 29/100\n",
      "42/42 [==============================] - 0s 479us/sample - loss: 110567.1425 - mean_absolute_error: 322.5237 - mean_squared_error: 110567.1406 - val_loss: 110804.5942 - val_mean_absolute_error: 324.8240 - val_mean_squared_error: 110804.5938\n",
      "Epoch 30/100\n",
      "42/42 [==============================] - 0s 443us/sample - loss: 109776.7258 - mean_absolute_error: 321.2678 - mean_squared_error: 109776.7266 - val_loss: 110003.7389 - val_mean_absolute_error: 323.5875 - val_mean_squared_error: 110003.7344\n",
      "Epoch 31/100\n",
      "42/42 [==============================] - 0s 467us/sample - loss: 108957.2705 - mean_absolute_error: 320.0161 - mean_squared_error: 108957.2656 - val_loss: 109146.8139 - val_mean_absolute_error: 322.2583 - val_mean_squared_error: 109146.8125\n",
      "Epoch 32/100\n",
      "42/42 [==============================] - 0s 455us/sample - loss: 108081.1633 - mean_absolute_error: 318.6448 - mean_squared_error: 108081.1641 - val_loss: 108256.9001 - val_mean_absolute_error: 320.8739 - val_mean_squared_error: 108256.8984\n",
      "Epoch 33/100\n",
      "42/42 [==============================] - 0s 455us/sample - loss: 107176.6451 - mean_absolute_error: 317.2108 - mean_squared_error: 107176.6406 - val_loss: 107336.7204 - val_mean_absolute_error: 319.4371 - val_mean_squared_error: 107336.7266\n",
      "Epoch 34/100\n",
      "42/42 [==============================] - 0s 501us/sample - loss: 106237.9524 - mean_absolute_error: 315.7296 - mean_squared_error: 106237.9531 - val_loss: 106382.7965 - val_mean_absolute_error: 317.9398 - val_mean_squared_error: 106382.7969\n",
      "Epoch 35/100\n",
      "42/42 [==============================] - 0s 443us/sample - loss: 105267.3300 - mean_absolute_error: 314.1765 - mean_squared_error: 105267.3359 - val_loss: 105400.0189 - val_mean_absolute_error: 316.3896 - val_mean_squared_error: 105400.0234\n",
      "Epoch 36/100\n",
      "42/42 [==============================] - 0s 474us/sample - loss: 104270.4256 - mean_absolute_error: 312.5815 - mean_squared_error: 104270.4297 - val_loss: 104379.1776 - val_mean_absolute_error: 314.7724 - val_mean_squared_error: 104379.1797\n",
      "Epoch 37/100\n",
      "42/42 [==============================] - 0s 498us/sample - loss: 103242.2139 - mean_absolute_error: 310.9284 - mean_squared_error: 103242.2109 - val_loss: 103332.3524 - val_mean_absolute_error: 313.1055 - val_mean_squared_error: 103332.3516\n",
      "Epoch 38/100\n",
      "42/42 [==============================] - 0s 491us/sample - loss: 102176.3121 - mean_absolute_error: 309.2314 - mean_squared_error: 102176.3125 - val_loss: 102242.4112 - val_mean_absolute_error: 311.3605 - val_mean_squared_error: 102242.4062\n",
      "Epoch 39/100\n",
      "42/42 [==============================] - 0s 484us/sample - loss: 101066.3311 - mean_absolute_error: 307.4223 - mean_squared_error: 101066.3359 - val_loss: 101118.3536 - val_mean_absolute_error: 309.5503 - val_mean_squared_error: 101118.3516\n",
      "Epoch 40/100\n",
      "42/42 [==============================] - 0s 534us/sample - loss: 99913.0502 - mean_absolute_error: 305.5582 - mean_squared_error: 99913.0469 - val_loss: 99941.6003 - val_mean_absolute_error: 307.6420 - val_mean_squared_error: 99941.6016\n",
      "Epoch 41/100\n",
      "42/42 [==============================] - 0s 500us/sample - loss: 98729.2995 - mean_absolute_error: 303.5664 - mean_squared_error: 98729.2969 - val_loss: 98763.3606 - val_mean_absolute_error: 305.7194 - val_mean_squared_error: 98763.3594\n",
      "Epoch 42/100\n",
      "42/42 [==============================] - 0s 480us/sample - loss: 97517.9933 - mean_absolute_error: 301.6000 - mean_squared_error: 97517.9844 - val_loss: 97529.7615 - val_mean_absolute_error: 303.6927 - val_mean_squared_error: 97529.7656\n",
      "Epoch 43/100\n",
      "42/42 [==============================] - 0s 498us/sample - loss: 96262.1161 - mean_absolute_error: 299.5295 - mean_squared_error: 96262.1172 - val_loss: 96250.1723 - val_mean_absolute_error: 301.5775 - val_mean_squared_error: 96250.1719\n",
      "Epoch 44/100\n",
      "42/42 [==============================] - 0s 506us/sample - loss: 94972.9918 - mean_absolute_error: 297.3481 - mean_squared_error: 94972.9844 - val_loss: 94956.2730 - val_mean_absolute_error: 299.4222 - val_mean_squared_error: 94956.2734\n",
      "Epoch 45/100\n",
      "42/42 [==============================] - 0s 506us/sample - loss: 93660.7299 - mean_absolute_error: 295.1366 - mean_squared_error: 93660.7266 - val_loss: 93627.8672 - val_mean_absolute_error: 297.1982 - val_mean_squared_error: 93627.8672\n",
      "Epoch 46/100\n",
      "42/42 [==============================] - 0s 534us/sample - loss: 92325.5595 - mean_absolute_error: 292.8459 - mean_squared_error: 92325.5625 - val_loss: 92267.6768 - val_mean_absolute_error: 294.9003 - val_mean_squared_error: 92267.6797\n",
      "Epoch 47/100\n",
      "42/42 [==============================] - 0s 477us/sample - loss: 90950.5900 - mean_absolute_error: 290.4995 - mean_squared_error: 90950.5859 - val_loss: 90866.6061 - val_mean_absolute_error: 292.5140 - val_mean_squared_error: 90866.6016\n",
      "Epoch 48/100\n",
      "42/42 [==============================] - 0s 492us/sample - loss: 89537.1484 - mean_absolute_error: 288.0360 - mean_squared_error: 89537.1562 - val_loss: 89431.7204 - val_mean_absolute_error: 290.0518 - val_mean_squared_error: 89431.7266\n",
      "Epoch 49/100\n",
      "42/42 [==============================] - 0s 483us/sample - loss: 88098.1964 - mean_absolute_error: 285.5693 - mean_squared_error: 88098.1875 - val_loss: 87954.6174 - val_mean_absolute_error: 287.4948 - val_mean_squared_error: 87954.6172\n",
      "Epoch 50/100\n",
      "42/42 [==============================] - 0s 501us/sample - loss: 86619.8051 - mean_absolute_error: 282.9230 - mean_squared_error: 86619.8047 - val_loss: 86474.8351 - val_mean_absolute_error: 284.9069 - val_mean_squared_error: 86474.8359\n",
      "Epoch 51/100\n",
      "42/42 [==============================] - 0s 479us/sample - loss: 85119.7098 - mean_absolute_error: 280.3058 - mean_squared_error: 85119.7109 - val_loss: 84932.3750 - val_mean_absolute_error: 282.1866 - val_mean_squared_error: 84932.3750\n",
      "Epoch 52/100\n",
      "42/42 [==============================] - 0s 539us/sample - loss: 83581.4304 - mean_absolute_error: 277.4836 - mean_squared_error: 83581.4297 - val_loss: 83397.1813 - val_mean_absolute_error: 279.4514 - val_mean_squared_error: 83397.1875\n",
      "Epoch 53/100\n",
      "42/42 [==============================] - 0s 507us/sample - loss: 82035.9632 - mean_absolute_error: 274.7000 - mean_squared_error: 82035.9609 - val_loss: 81808.0506 - val_mean_absolute_error: 276.5929 - val_mean_squared_error: 81808.0547\n",
      "Epoch 54/100\n",
      "42/42 [==============================] - 0s 447us/sample - loss: 80440.9293 - mean_absolute_error: 271.7952 - mean_squared_error: 80440.9297 - val_loss: 80203.9766 - val_mean_absolute_error: 273.6700 - val_mean_squared_error: 80203.9766\n",
      "Epoch 55/100\n",
      "42/42 [==============================] - 0s 475us/sample - loss: 78837.6962 - mean_absolute_error: 268.7776 - mean_squared_error: 78837.6953 - val_loss: 78634.7192 - val_mean_absolute_error: 270.7846 - val_mean_squared_error: 78634.7188\n",
      "Epoch 56/100\n",
      "42/42 [==============================] - 0s 486us/sample - loss: 77229.7225 - mean_absolute_error: 265.8222 - mean_squared_error: 77229.7188 - val_loss: 76961.8041 - val_mean_absolute_error: 267.6762 - val_mean_squared_error: 76961.8047\n",
      "Epoch 57/100\n",
      "42/42 [==============================] - 0s 407us/sample - loss: 75569.2115 - mean_absolute_error: 262.6116 - mean_squared_error: 75569.2109 - val_loss: 75312.5152 - val_mean_absolute_error: 264.5741 - val_mean_squared_error: 75312.5156\n",
      "Epoch 58/100\n",
      "42/42 [==============================] - 0s 454us/sample - loss: 73919.2463 - mean_absolute_error: 259.4319 - mean_squared_error: 73919.2500 - val_loss: 73614.2397 - val_mean_absolute_error: 261.3444 - val_mean_squared_error: 73614.2344\n",
      "Epoch 59/100\n",
      "42/42 [==============================] - 0s 436us/sample - loss: 72217.7593 - mean_absolute_error: 256.1806 - mean_squared_error: 72217.7656 - val_loss: 71889.7266 - val_mean_absolute_error: 258.0193 - val_mean_squared_error: 71889.7266\n",
      "Epoch 60/100\n",
      "42/42 [==============================] - 0s 437us/sample - loss: 70490.2664 - mean_absolute_error: 252.8296 - mean_squared_error: 70490.2656 - val_loss: 70121.3571 - val_mean_absolute_error: 254.5653 - val_mean_squared_error: 70121.3516\n",
      "Epoch 61/100\n",
      "42/42 [==============================] - 0s 442us/sample - loss: 68739.7798 - mean_absolute_error: 249.2626 - mean_squared_error: 68739.7812 - val_loss: 68369.4145 - val_mean_absolute_error: 251.0985 - val_mean_squared_error: 68369.4141\n",
      "Epoch 62/100\n",
      "42/42 [==============================] - 0s 427us/sample - loss: 66993.6217 - mean_absolute_error: 245.8203 - mean_squared_error: 66993.6172 - val_loss: 66566.1859 - val_mean_absolute_error: 247.4747 - val_mean_squared_error: 66566.1875\n",
      "Epoch 63/100\n",
      "42/42 [==============================] - 0s 436us/sample - loss: 65216.6496 - mean_absolute_error: 242.0856 - mean_squared_error: 65216.6484 - val_loss: 64780.1328 - val_mean_absolute_error: 243.8324 - val_mean_squared_error: 64780.1328\n",
      "Epoch 64/100\n",
      "42/42 [==============================] - 0s 437us/sample - loss: 63441.0595 - mean_absolute_error: 238.3850 - mean_squared_error: 63441.0586 - val_loss: 62999.5424 - val_mean_absolute_error: 240.1486 - val_mean_squared_error: 62999.5391\n",
      "Epoch 65/100\n",
      "42/42 [==============================] - 0s 421us/sample - loss: 61664.8341 - mean_absolute_error: 234.7293 - mean_squared_error: 61664.8320 - val_loss: 61161.9383 - val_mean_absolute_error: 236.2930 - val_mean_squared_error: 61161.9414\n",
      "Epoch 66/100\n",
      "42/42 [==============================] - 0s 437us/sample - loss: 59839.5197 - mean_absolute_error: 230.7507 - mean_squared_error: 59839.5195 - val_loss: 59315.2048 - val_mean_absolute_error: 232.3468 - val_mean_squared_error: 59315.2031\n",
      "Epoch 67/100\n",
      "42/42 [==============================] - 0s 438us/sample - loss: 58020.0655 - mean_absolute_error: 226.7461 - mean_squared_error: 58020.0664 - val_loss: 57484.4813 - val_mean_absolute_error: 228.3651 - val_mean_squared_error: 57484.4805\n",
      "Epoch 68/100\n",
      "42/42 [==============================] - 0s 493us/sample - loss: 56193.6447 - mean_absolute_error: 222.7631 - mean_squared_error: 56193.6445 - val_loss: 55615.6349 - val_mean_absolute_error: 224.2332 - val_mean_squared_error: 55615.6328\n",
      "Epoch 69/100\n",
      "42/42 [==============================] - 0s 494us/sample - loss: 54360.7809 - mean_absolute_error: 218.4912 - mean_squared_error: 54360.7812 - val_loss: 53825.9554 - val_mean_absolute_error: 220.2034 - val_mean_squared_error: 53825.9531\n",
      "Epoch 70/100\n",
      "42/42 [==============================] - 0s 470us/sample - loss: 52578.0223 - mean_absolute_error: 214.3633 - mean_squared_error: 52578.0234 - val_loss: 52002.7467 - val_mean_absolute_error: 216.0212 - val_mean_squared_error: 52002.7461\n",
      "Epoch 71/100\n",
      "42/42 [==============================] - 0s 467us/sample - loss: 50779.6497 - mean_absolute_error: 210.1911 - mean_squared_error: 50779.6484 - val_loss: 50166.3466 - val_mean_absolute_error: 211.7295 - val_mean_squared_error: 50166.3477\n",
      "Epoch 72/100\n",
      "42/42 [==============================] - 0s 430us/sample - loss: 48972.7487 - mean_absolute_error: 205.8495 - mean_squared_error: 48972.7461 - val_loss: 48344.2103 - val_mean_absolute_error: 207.3717 - val_mean_squared_error: 48344.2109\n",
      "Epoch 73/100\n",
      "42/42 [==============================] - 0s 480us/sample - loss: 47161.6743 - mean_absolute_error: 201.3466 - mean_squared_error: 47161.6719 - val_loss: 46541.0888 - val_mean_absolute_error: 202.9655 - val_mean_squared_error: 46541.0898\n",
      "Epoch 74/100\n",
      "42/42 [==============================] - 0s 461us/sample - loss: 45359.2891 - mean_absolute_error: 196.9643 - mean_squared_error: 45359.2891 - val_loss: 44669.0576 - val_mean_absolute_error: 198.2939 - val_mean_squared_error: 44669.0586\n",
      "Epoch 75/100\n",
      "42/42 [==============================] - 0s 453us/sample - loss: 43540.9500 - mean_absolute_error: 192.0784 - mean_squared_error: 43540.9492 - val_loss: 42912.0409 - val_mean_absolute_error: 193.8044 - val_mean_squared_error: 42912.0391\n",
      "Epoch 76/100\n",
      "42/42 [==============================] - 0s 448us/sample - loss: 41794.6782 - mean_absolute_error: 187.6366 - mean_squared_error: 41794.6797 - val_loss: 41093.1965 - val_mean_absolute_error: 189.0493 - val_mean_squared_error: 41093.1992\n",
      "Epoch 77/100\n",
      "42/42 [==============================] - 0s 473us/sample - loss: 40011.0558 - mean_absolute_error: 182.7541 - mean_squared_error: 40011.0547 - val_loss: 39315.9431 - val_mean_absolute_error: 184.2828 - val_mean_squared_error: 39315.9453\n",
      "Epoch 78/100\n",
      "42/42 [==============================] - 0s 479us/sample - loss: 38251.6938 - mean_absolute_error: 178.0201 - mean_squared_error: 38251.6914 - val_loss: 37517.0699 - val_mean_absolute_error: 179.3398 - val_mean_squared_error: 37517.0703\n",
      "Epoch 79/100\n",
      "42/42 [==============================] - 0s 512us/sample - loss: 36527.1348 - mean_absolute_error: 172.8930 - mean_squared_error: 36527.1328 - val_loss: 35836.7317 - val_mean_absolute_error: 174.5837 - val_mean_squared_error: 35836.7305\n",
      "Epoch 80/100\n",
      "42/42 [==============================] - 0s 481us/sample - loss: 34885.5083 - mean_absolute_error: 167.9729 - mean_squared_error: 34885.5078 - val_loss: 34186.7650 - val_mean_absolute_error: 169.7825 - val_mean_squared_error: 34186.7617\n",
      "Epoch 81/100\n",
      "42/42 [==============================] - 0s 499us/sample - loss: 33227.4498 - mean_absolute_error: 163.3056 - mean_squared_error: 33227.4492 - val_loss: 32431.4336 - val_mean_absolute_error: 164.5186 - val_mean_squared_error: 32431.4336\n",
      "Epoch 82/100\n",
      "42/42 [==============================] - 0s 490us/sample - loss: 31549.6719 - mean_absolute_error: 157.7586 - mean_squared_error: 31549.6719 - val_loss: 30830.0685 - val_mean_absolute_error: 159.5722 - val_mean_squared_error: 30830.0684\n",
      "Epoch 83/100\n",
      "42/42 [==============================] - 0s 505us/sample - loss: 29986.4822 - mean_absolute_error: 152.8291 - mean_squared_error: 29986.4824 - val_loss: 29220.9123 - val_mean_absolute_error: 154.4385 - val_mean_squared_error: 29220.9121\n",
      "Epoch 84/100\n",
      "42/42 [==============================] - 0s 444us/sample - loss: 28398.5884 - mean_absolute_error: 147.5287 - mean_squared_error: 28398.5898 - val_loss: 27621.7760 - val_mean_absolute_error: 149.1738 - val_mean_squared_error: 27621.7754\n",
      "Epoch 85/100\n",
      "42/42 [==============================] - 0s 442us/sample - loss: 26853.7477 - mean_absolute_error: 142.3183 - mean_squared_error: 26853.7500 - val_loss: 26049.5678 - val_mean_absolute_error: 143.8049 - val_mean_squared_error: 26049.5684\n",
      "Epoch 86/100\n",
      "42/42 [==============================] - 0s 450us/sample - loss: 25342.7307 - mean_absolute_error: 136.9282 - mean_squared_error: 25342.7324 - val_loss: 24499.8489 - val_mean_absolute_error: 138.4507 - val_mean_squared_error: 24499.8496\n",
      "Epoch 87/100\n",
      "42/42 [==============================] - 0s 446us/sample - loss: 23852.1517 - mean_absolute_error: 131.5525 - mean_squared_error: 23852.1523 - val_loss: 23017.6535 - val_mean_absolute_error: 133.5454 - val_mean_squared_error: 23017.6523\n",
      "Epoch 88/100\n",
      "42/42 [==============================] - 0s 444us/sample - loss: 22432.4997 - mean_absolute_error: 126.1780 - mean_squared_error: 22432.4980 - val_loss: 21611.0596 - val_mean_absolute_error: 128.7018 - val_mean_squared_error: 21611.0586\n",
      "Epoch 89/100\n",
      "42/42 [==============================] - 0s 505us/sample - loss: 21084.4675 - mean_absolute_error: 121.3419 - mean_squared_error: 21084.4668 - val_loss: 20211.8773 - val_mean_absolute_error: 123.6644 - val_mean_squared_error: 20211.8770\n",
      "Epoch 90/100\n",
      "42/42 [==============================] - 0s 500us/sample - loss: 19759.5378 - mean_absolute_error: 116.6269 - mean_squared_error: 19759.5371 - val_loss: 18925.6286 - val_mean_absolute_error: 118.8432 - val_mean_squared_error: 18925.6289\n",
      "Epoch 91/100\n",
      "42/42 [==============================] - 0s 456us/sample - loss: 18518.1703 - mean_absolute_error: 111.9661 - mean_squared_error: 18518.1699 - val_loss: 17676.2023 - val_mean_absolute_error: 114.2961 - val_mean_squared_error: 17676.2031\n",
      "Epoch 92/100\n",
      "42/42 [==============================] - 0s 418us/sample - loss: 17360.3166 - mean_absolute_error: 107.6613 - mean_squared_error: 17360.3164 - val_loss: 16494.5950 - val_mean_absolute_error: 109.9931 - val_mean_squared_error: 16494.5957\n",
      "Epoch 93/100\n",
      "42/42 [==============================] - 0s 458us/sample - loss: 16217.3149 - mean_absolute_error: 103.1687 - mean_squared_error: 16217.3154 - val_loss: 15347.7671 - val_mean_absolute_error: 105.5589 - val_mean_squared_error: 15347.7666\n",
      "Epoch 94/100\n",
      "42/42 [==============================] - 0s 440us/sample - loss: 15129.4273 - mean_absolute_error: 99.1372 - mean_squared_error: 15129.4268 - val_loss: 14213.3762 - val_mean_absolute_error: 100.9299 - val_mean_squared_error: 14213.3770\n",
      "Epoch 95/100\n",
      "42/42 [==============================] - 0s 425us/sample - loss: 14096.0968 - mean_absolute_error: 94.6306 - mean_squared_error: 14096.0967 - val_loss: 13198.6202 - val_mean_absolute_error: 96.5249 - val_mean_squared_error: 13198.6201\n",
      "Epoch 96/100\n",
      "42/42 [==============================] - 0s 442us/sample - loss: 13140.8784 - mean_absolute_error: 90.7594 - mean_squared_error: 13140.8779 - val_loss: 12219.0368 - val_mean_absolute_error: 92.3494 - val_mean_squared_error: 12219.0371\n",
      "Epoch 97/100\n",
      "42/42 [==============================] - 0s 432us/sample - loss: 12235.8946 - mean_absolute_error: 86.7692 - mean_squared_error: 12235.8945 - val_loss: 11304.0712 - val_mean_absolute_error: 88.4185 - val_mean_squared_error: 11304.0703\n",
      "Epoch 98/100\n",
      "42/42 [==============================] - 0s 460us/sample - loss: 11422.0352 - mean_absolute_error: 82.5597 - mean_squared_error: 11422.0352 - val_loss: 10521.6471 - val_mean_absolute_error: 84.8178 - val_mean_squared_error: 10521.6475\n",
      "Epoch 99/100\n",
      "42/42 [==============================] - 0s 438us/sample - loss: 10689.8108 - mean_absolute_error: 79.5031 - mean_squared_error: 10689.8105 - val_loss: 9676.5008 - val_mean_absolute_error: 80.6278 - val_mean_squared_error: 9676.5010\n",
      "Epoch 100/100\n",
      "42/42 [==============================] - 0s 478us/sample - loss: 9950.9046 - mean_absolute_error: 76.0471 - mean_squared_error: 9950.9043 - val_loss: 9006.3174 - val_mean_absolute_error: 77.6993 - val_mean_squared_error: 9006.3174\n"
     ]
    },
    {
     "data": {
      "text/plain": [
       "<tensorflow.python.keras.callbacks.History at 0x7fb510287da0>"
      ]
     },
     "execution_count": 21,
     "metadata": {},
     "output_type": "execute_result"
    }
   ],
   "source": [
    "model.fit(x=X_train,y=y_train.values,\n",
    "          validation_data=(X_test,y_test.values),\n",
    "          batch_size=16,epochs=100) "
   ]
  },
  {
   "cell_type": "markdown",
   "metadata": {},
   "source": [
    "# Evaluation "
   ]
  },
  {
   "cell_type": "markdown",
   "metadata": {},
   "source": [
    "### Lets check the performance curves"
   ]
  },
  {
   "cell_type": "code",
   "execution_count": 33,
   "metadata": {},
   "outputs": [
    {
     "data": {
      "text/plain": [
       "<AxesSubplot:>"
      ]
     },
     "execution_count": 33,
     "metadata": {},
     "output_type": "execute_result"
    },
    {
     "data": {
      "image/png": "[encoded data removed]",
      "text/plain": [
       "<Figure size 432x288 with 1 Axes>"
      ]
     },
     "metadata": {
      "needs_background": "light"
     },
     "output_type": "display_data"
    }
   ],
   "source": [
    "losses = pd.DataFrame(model.history.history)\n",
    "losses.plot()"
   ]
  },
  {
   "cell_type": "markdown",
   "metadata": {},
   "source": [
    "### Predictions"
   ]
  },
  {
   "cell_type": "code",
   "execution_count": 24,
   "metadata": {},
   "outputs": [],
   "source": [
    "from sklearn.metrics import mean_squared_error,mean_absolute_error"
   ]
  },
  {
   "cell_type": "code",
   "execution_count": 25,
   "metadata": {},
   "outputs": [],
   "source": [
    "predictions = model.predict(X_test)"
   ]
  },
  {
   "cell_type": "code",
   "execution_count": 26,
   "metadata": {},
   "outputs": [],
   "source": [
    "mae=mean_absolute_error(y_test,predictions)"
   ]
  },
  {
   "cell_type": "code",
   "execution_count": 27,
   "metadata": {},
   "outputs": [],
   "source": [
    "mse=mean_squared_error(y_test,predictions)"
   ]
  },
  {
   "cell_type": "code",
   "execution_count": 28,
   "metadata": {},
   "outputs": [
    {
     "data": {
      "text/plain": [
       "(77.69931833367599, 9006.317584089446, 94.9016205556546)"
      ]
     },
     "execution_count": 28,
     "metadata": {},
     "output_type": "execute_result"
    }
   ],
   "source": [
    "from sklearn.metrics import mean_squared_error\n",
    "rms = mean_squared_error(y_test,predictions, squared=False)\n",
    "mae,mse,rms"
   ]
  },
  {
   "cell_type": "code",
   "execution_count": 29,
   "metadata": {},
   "outputs": [
    {
     "data": {
      "text/plain": [
       "array([[281.60413],\n",
       "       [284.92117],\n",
       "       [281.04272],\n",
       "       [281.09995],\n",
       "       [277.51028],\n",
       "       [277.72568],\n",
       "       [277.72568],\n",
       "       [287.68564],\n",
       "       [284.92117],\n",
       "       [273.6318 ],\n",
       "       [273.6318 ],\n",
       "       [281.09995],\n",
       "       [296.00455],\n",
       "       [292.45398],\n",
       "       [281.04272],\n",
       "       [292.45398],\n",
       "       [291.56412],\n",
       "       [277.51028],\n",
       "       [277.72568]], dtype=float32)"
      ]
     },
     "execution_count": 29,
     "metadata": {},
     "output_type": "execute_result"
    }
   ],
   "source": [
    "predictions"
   ]
  },
  {
   "cell_type": "code",
   "execution_count": 30,
   "metadata": {},
   "outputs": [
    {
     "data": {
      "text/plain": [
       "0     276\n",
       "5     430\n",
       "46    417\n",
       "31    201\n",
       "13    340\n",
       "55    285\n",
       "34    393\n",
       "49    352\n",
       "12    231\n",
       "40    457\n",
       "33    272\n",
       "59    329\n",
       "16    379\n",
       "3     377\n",
       "53    305\n",
       "17    354\n",
       "8     266\n",
       "6     390\n",
       "41    460\n",
       "Name: car_count, dtype: int64"
      ]
     },
     "execution_count": 30,
     "metadata": {},
     "output_type": "execute_result"
    }
   ],
   "source": [
    "y_test"
   ]
  },
  {
   "cell_type": "code",
   "execution_count": null,
   "metadata": {},
   "outputs": [],
   "source": []
  },
  {
   "cell_type": "code",
   "execution_count": null,
   "metadata": {},
   "outputs": [],
   "source": []
  }
 ],
 "metadata": {
  "kernelspec": {
   "display_name": "Python 3",
   "language": "python",
   "name": "python3"
  },
  "language_info": {
   "codemirror_mode": {
    "name": "ipython",
    "version": 3
   },
   "file_extension": ".py",
   "mimetype": "text/x-python",
   "name": "python",
   "nbconvert_exporter": "python",
   "pygments_lexer": "ipython3",
   "version": "3.6.9"
  }
 },
 "nbformat": 4,
 "nbformat_minor": 4
}
