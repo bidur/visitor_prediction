{
 "cells": [
  {
   "cell_type": "markdown",
   "metadata": {},
   "source": [
    "# Okinawa data visitor prediction using Regression method (Keras and Tensorflow)"
   ]
  },
  {
   "cell_type": "markdown",
   "metadata": {},
   "source": [
    "### Import Libraries"
   ]
  },
  {
   "cell_type": "code",
   "execution_count": 1,
   "metadata": {},
   "outputs": [
    {
     "name": "stdout",
     "output_type": "stream",
     "text": [
      "Requirement already satisfied: seaborn in /home/bidur/.virtualenvs/sm/lib/python3.6/site-packages (0.11.0)\n",
      "Requirement already satisfied: matplotlib>=2.2 in /home/bidur/.virtualenvs/sm/lib/python3.6/site-packages (from seaborn) (3.3.1)\n",
      "Requirement already satisfied: numpy>=1.15 in /home/bidur/.virtualenvs/sm/lib/python3.6/site-packages (from seaborn) (1.19.1)\n",
      "Requirement already satisfied: pandas>=0.23 in /home/bidur/.virtualenvs/sm/lib/python3.6/site-packages (from seaborn) (1.1.3)\n",
      "Requirement already satisfied: scipy>=1.0 in /home/bidur/.virtualenvs/sm/lib/python3.6/site-packages (from seaborn) (1.5.2)\n",
      "Requirement already satisfied: python-dateutil>=2.1 in /home/bidur/.virtualenvs/sm/lib/python3.6/site-packages (from matplotlib>=2.2->seaborn) (2.8.1)\n",
      "Requirement already satisfied: cycler>=0.10 in /home/bidur/.virtualenvs/sm/lib/python3.6/site-packages (from matplotlib>=2.2->seaborn) (0.10.0)\n",
      "Requirement already satisfied: pyparsing!=2.0.4,!=2.1.2,!=2.1.6,>=2.0.3 in /home/bidur/.virtualenvs/sm/lib/python3.6/site-packages (from matplotlib>=2.2->seaborn) (2.4.7)\n",
      "Requirement already satisfied: pillow>=6.2.0 in /home/bidur/.virtualenvs/sm/lib/python3.6/site-packages (from matplotlib>=2.2->seaborn) (7.2.0)\n",
      "Requirement already satisfied: kiwisolver>=1.0.1 in /home/bidur/.virtualenvs/sm/lib/python3.6/site-packages (from matplotlib>=2.2->seaborn) (1.2.0)\n",
      "Requirement already satisfied: certifi>=2020.06.20 in /home/bidur/.virtualenvs/sm/lib/python3.6/site-packages (from matplotlib>=2.2->seaborn) (2020.6.20)\n",
      "Requirement already satisfied: pytz>=2017.2 in /home/bidur/.virtualenvs/sm/lib/python3.6/site-packages (from pandas>=0.23->seaborn) (2020.1)\n",
      "Requirement already satisfied: six>=1.5 in /home/bidur/.virtualenvs/sm/lib/python3.6/site-packages (from python-dateutil>=2.1->matplotlib>=2.2->seaborn) (1.15.0)\n",
      "\u001b[33mWARNING: You are using pip version 20.2.3; however, version 20.2.4 is available.\n",
      "You should consider upgrading via the '/home/bidur/.virtualenvs/sm/bin/python3 -m pip install --upgrade pip' command.\u001b[0m\n"
     ]
    }
   ],
   "source": [
    "! pip install seaborn"
   ]
  },
  {
   "cell_type": "code",
   "execution_count": 2,
   "metadata": {},
   "outputs": [],
   "source": [
    "import pandas as pd\n",
    "import numpy as np\n",
    "import matplotlib.pyplot as plt\n",
    "import seaborn as sns"
   ]
  },
  {
   "cell_type": "markdown",
   "metadata": {},
   "source": [
    "### Load the Dataset"
   ]
  },
  {
   "cell_type": "code",
   "execution_count": 3,
   "metadata": {},
   "outputs": [
    {
     "data": {
      "text/html": [
       "<div>\n",
       "<style scoped>\n",
       "    .dataframe tbody tr th:only-of-type {\n",
       "        vertical-align: middle;\n",
       "    }\n",
       "\n",
       "    .dataframe tbody tr th {\n",
       "        vertical-align: top;\n",
       "    }\n",
       "\n",
       "    .dataframe thead th {\n",
       "        text-align: right;\n",
       "    }\n",
       "</style>\n",
       "<table border=\"1\" class=\"dataframe\">\n",
       "  <thead>\n",
       "    <tr style=\"text-align: right;\">\n",
       "      <th></th>\n",
       "      <th>date</th>\n",
       "      <th>month</th>\n",
       "      <th>day</th>\n",
       "      <th>car_count</th>\n",
       "    </tr>\n",
       "  </thead>\n",
       "  <tbody>\n",
       "    <tr>\n",
       "      <th>0</th>\n",
       "      <td>2019-04-01</td>\n",
       "      <td>4</td>\n",
       "      <td>0</td>\n",
       "      <td>72</td>\n",
       "    </tr>\n",
       "    <tr>\n",
       "      <th>1</th>\n",
       "      <td>2019-04-02</td>\n",
       "      <td>4</td>\n",
       "      <td>1</td>\n",
       "      <td>66</td>\n",
       "    </tr>\n",
       "    <tr>\n",
       "      <th>2</th>\n",
       "      <td>2019-04-03</td>\n",
       "      <td>4</td>\n",
       "      <td>2</td>\n",
       "      <td>103</td>\n",
       "    </tr>\n",
       "    <tr>\n",
       "      <th>3</th>\n",
       "      <td>2019-04-04</td>\n",
       "      <td>4</td>\n",
       "      <td>3</td>\n",
       "      <td>89</td>\n",
       "    </tr>\n",
       "    <tr>\n",
       "      <th>4</th>\n",
       "      <td>2019-04-05</td>\n",
       "      <td>4</td>\n",
       "      <td>4</td>\n",
       "      <td>58</td>\n",
       "    </tr>\n",
       "  </tbody>\n",
       "</table>\n",
       "</div>"
      ],
      "text/plain": [
       "        date  month  day  car_count\n",
       "0 2019-04-01      4    0         72\n",
       "1 2019-04-02      4    1         66\n",
       "2 2019-04-03      4    2        103\n",
       "3 2019-04-04      4    3         89\n",
       "4 2019-04-05      4    4         58"
      ]
     },
     "execution_count": 3,
     "metadata": {},
     "output_type": "execute_result"
    }
   ],
   "source": [
    "preprocessed_data='data/2019-04_2019-08_GyokuSendo_staypoints.csv'\n",
    "\n",
    "df=pd.read_csv(preprocessed_data)\n",
    "df['date']= pd.to_datetime(df['date'])\n",
    "df.head()"
   ]
  },
  {
   "cell_type": "markdown",
   "metadata": {},
   "source": [
    "### Explore Data"
   ]
  },
  {
   "cell_type": "code",
   "execution_count": 4,
   "metadata": {},
   "outputs": [
    {
     "data": {
      "text/html": [
       "<div>\n",
       "<style scoped>\n",
       "    .dataframe tbody tr th:only-of-type {\n",
       "        vertical-align: middle;\n",
       "    }\n",
       "\n",
       "    .dataframe tbody tr th {\n",
       "        vertical-align: top;\n",
       "    }\n",
       "\n",
       "    .dataframe thead th {\n",
       "        text-align: right;\n",
       "    }\n",
       "</style>\n",
       "<table border=\"1\" class=\"dataframe\">\n",
       "  <thead>\n",
       "    <tr style=\"text-align: right;\">\n",
       "      <th></th>\n",
       "      <th>count</th>\n",
       "      <th>mean</th>\n",
       "      <th>std</th>\n",
       "      <th>min</th>\n",
       "      <th>25%</th>\n",
       "      <th>50%</th>\n",
       "      <th>75%</th>\n",
       "      <th>max</th>\n",
       "    </tr>\n",
       "  </thead>\n",
       "  <tbody>\n",
       "    <tr>\n",
       "      <th>month</th>\n",
       "      <td>61.0</td>\n",
       "      <td>6.032787</td>\n",
       "      <td>2.016327</td>\n",
       "      <td>4.0</td>\n",
       "      <td>4.0</td>\n",
       "      <td>8.0</td>\n",
       "      <td>8.0</td>\n",
       "      <td>8.0</td>\n",
       "    </tr>\n",
       "    <tr>\n",
       "      <th>day</th>\n",
       "      <td>61.0</td>\n",
       "      <td>2.967213</td>\n",
       "      <td>2.008044</td>\n",
       "      <td>0.0</td>\n",
       "      <td>1.0</td>\n",
       "      <td>3.0</td>\n",
       "      <td>5.0</td>\n",
       "      <td>6.0</td>\n",
       "    </tr>\n",
       "    <tr>\n",
       "      <th>car_count</th>\n",
       "      <td>61.0</td>\n",
       "      <td>79.459016</td>\n",
       "      <td>16.777538</td>\n",
       "      <td>50.0</td>\n",
       "      <td>69.0</td>\n",
       "      <td>76.0</td>\n",
       "      <td>89.0</td>\n",
       "      <td>152.0</td>\n",
       "    </tr>\n",
       "  </tbody>\n",
       "</table>\n",
       "</div>"
      ],
      "text/plain": [
       "           count       mean        std   min   25%   50%   75%    max\n",
       "month       61.0   6.032787   2.016327   4.0   4.0   8.0   8.0    8.0\n",
       "day         61.0   2.967213   2.008044   0.0   1.0   3.0   5.0    6.0\n",
       "car_count   61.0  79.459016  16.777538  50.0  69.0  76.0  89.0  152.0"
      ]
     },
     "execution_count": 4,
     "metadata": {},
     "output_type": "execute_result"
    }
   ],
   "source": [
    "df.describe().transpose()"
   ]
  },
  {
   "cell_type": "markdown",
   "metadata": {},
   "source": [
    "#### chek and remove null values , if any"
   ]
  },
  {
   "cell_type": "code",
   "execution_count": 5,
   "metadata": {},
   "outputs": [
    {
     "name": "stdout",
     "output_type": "stream",
     "text": [
      "<class 'pandas.core.frame.DataFrame'>\n",
      "RangeIndex: 61 entries, 0 to 60\n",
      "Data columns (total 4 columns):\n",
      " #   Column     Non-Null Count  Dtype         \n",
      "---  ------     --------------  -----         \n",
      " 0   date       61 non-null     datetime64[ns]\n",
      " 1   month      61 non-null     int64         \n",
      " 2   day        61 non-null     int64         \n",
      " 3   car_count  61 non-null     int64         \n",
      "dtypes: datetime64[ns](1), int64(3)\n",
      "memory usage: 2.0 KB\n"
     ]
    }
   ],
   "source": [
    "df.info()"
   ]
  },
  {
   "cell_type": "code",
   "execution_count": 6,
   "metadata": {},
   "outputs": [
    {
     "data": {
      "text/plain": [
       "date         0\n",
       "month        0\n",
       "day          0\n",
       "car_count    0\n",
       "dtype: int64"
      ]
     },
     "execution_count": 6,
     "metadata": {},
     "output_type": "execute_result"
    }
   ],
   "source": [
    "df.isnull().sum()"
   ]
  },
  {
   "cell_type": "code",
   "execution_count": 7,
   "metadata": {},
   "outputs": [],
   "source": [
    "df.dropna(inplace=True)"
   ]
  },
  {
   "cell_type": "markdown",
   "metadata": {},
   "source": [
    "### scatter plot"
   ]
  },
  {
   "cell_type": "code",
   "execution_count": 8,
   "metadata": {},
   "outputs": [
    {
     "data": {
      "text/plain": [
       "<AxesSubplot:xlabel='date', ylabel='car_count'>"
      ]
     },
     "execution_count": 8,
     "metadata": {},
     "output_type": "execute_result"
    },
    {
     "data": {
      "image/png": "[encoded data removed]",
      "text/plain": [
       "<Figure size 432x288 with 1 Axes>"
      ]
     },
     "metadata": {
      "needs_background": "light"
     },
     "output_type": "display_data"
    }
   ],
   "source": [
    "sns.scatterplot(data=df, x=\"date\", y=\"car_count\")"
   ]
  },
  {
   "cell_type": "code",
   "execution_count": 9,
   "metadata": {},
   "outputs": [
    {
     "name": "stderr",
     "output_type": "stream",
     "text": [
      "/home/bidur/.virtualenvs/sm/lib/python3.6/site-packages/seaborn/distributions.py:2551: FutureWarning: `distplot` is a deprecated function and will be removed in a future version. Please adapt your code to use either `displot` (a figure-level function with similar flexibility) or `histplot` (an axes-level function for histograms).\n",
      "  warnings.warn(msg, FutureWarning)\n"
     ]
    },
    {
     "data": {
      "text/plain": [
       "<AxesSubplot:xlabel='car_count', ylabel='Density'>"
      ]
     },
     "execution_count": 9,
     "metadata": {},
     "output_type": "execute_result"
    },
    {
     "data": {
      "image/png": "[encoded data removed]",
      "text/plain": [
       "<Figure size 360x288 with 1 Axes>"
      ]
     },
     "metadata": {
      "needs_background": "light"
     },
     "output_type": "display_data"
    }
   ],
   "source": [
    "plt.figure(figsize=(5,4))\n",
    "sns.distplot(df['car_count'])"
   ]
  },
  {
   "cell_type": "markdown",
   "metadata": {},
   "source": [
    "### Check correlation among the variables"
   ]
  },
  {
   "cell_type": "code",
   "execution_count": 10,
   "metadata": {},
   "outputs": [
    {
     "data": {
      "text/html": [
       "<div>\n",
       "<style scoped>\n",
       "    .dataframe tbody tr th:only-of-type {\n",
       "        vertical-align: middle;\n",
       "    }\n",
       "\n",
       "    .dataframe tbody tr th {\n",
       "        vertical-align: top;\n",
       "    }\n",
       "\n",
       "    .dataframe thead th {\n",
       "        text-align: right;\n",
       "    }\n",
       "</style>\n",
       "<table border=\"1\" class=\"dataframe\">\n",
       "  <thead>\n",
       "    <tr style=\"text-align: right;\">\n",
       "      <th></th>\n",
       "      <th>month</th>\n",
       "      <th>day</th>\n",
       "      <th>car_count</th>\n",
       "    </tr>\n",
       "  </thead>\n",
       "  <tbody>\n",
       "    <tr>\n",
       "      <th>month</th>\n",
       "      <td>1.000000</td>\n",
       "      <td>0.066132</td>\n",
       "      <td>0.186764</td>\n",
       "    </tr>\n",
       "    <tr>\n",
       "      <th>day</th>\n",
       "      <td>0.066132</td>\n",
       "      <td>1.000000</td>\n",
       "      <td>-0.057426</td>\n",
       "    </tr>\n",
       "    <tr>\n",
       "      <th>car_count</th>\n",
       "      <td>0.186764</td>\n",
       "      <td>-0.057426</td>\n",
       "      <td>1.000000</td>\n",
       "    </tr>\n",
       "  </tbody>\n",
       "</table>\n",
       "</div>"
      ],
      "text/plain": [
       "              month       day  car_count\n",
       "month      1.000000  0.066132   0.186764\n",
       "day        0.066132  1.000000  -0.057426\n",
       "car_count  0.186764 -0.057426   1.000000"
      ]
     },
     "execution_count": 10,
     "metadata": {},
     "output_type": "execute_result"
    }
   ],
   "source": [
    "df.corr()"
   ]
  },
  {
   "cell_type": "code",
   "execution_count": 11,
   "metadata": {},
   "outputs": [
    {
     "data": {
      "text/plain": [
       "<AxesSubplot:>"
      ]
     },
     "execution_count": 11,
     "metadata": {},
     "output_type": "execute_result"
    },
    {
     "data": {
      "image/png": "[encoded data removed]",
      "text/plain": [
       "<Figure size 360x288 with 2 Axes>"
      ]
     },
     "metadata": {
      "needs_background": "light"
     },
     "output_type": "display_data"
    }
   ],
   "source": [
    "plt.figure(figsize=(5,4))\n",
    "sns.heatmap(df.corr(), annot=True)"
   ]
  },
  {
   "cell_type": "markdown",
   "metadata": {},
   "source": [
    "#### Drop date as we are not using it for prediction"
   ]
  },
  {
   "cell_type": "code",
   "execution_count": 12,
   "metadata": {},
   "outputs": [
    {
     "data": {
      "text/plain": [
       "Index(['month', 'day', 'car_count'], dtype='object')"
      ]
     },
     "execution_count": 12,
     "metadata": {},
     "output_type": "execute_result"
    }
   ],
   "source": [
    "df=df.drop('date', axis=1)\n",
    "df.columns"
   ]
  },
  {
   "cell_type": "markdown",
   "metadata": {},
   "source": [
    "# Convert categorical/nominal data into dummy/indicator variables\n",
    "Categorical variables need to be recoded into a series of variables which can then be entered into the regression model. Here days ( Monday:0 ...Sunday:6) and months ( april:4....August:8) are such variables. To include them in a regression model, we will encode them accordingly."
   ]
  },
  {
   "cell_type": "code",
   "execution_count": 13,
   "metadata": {},
   "outputs": [],
   "source": [
    "X = df.drop('car_count',axis=1)\n",
    "y = df['car_count']"
   ]
  },
  {
   "cell_type": "code",
   "execution_count": 14,
   "metadata": {},
   "outputs": [
    {
     "data": {
      "text/html": [
       "<div>\n",
       "<style scoped>\n",
       "    .dataframe tbody tr th:only-of-type {\n",
       "        vertical-align: middle;\n",
       "    }\n",
       "\n",
       "    .dataframe tbody tr th {\n",
       "        vertical-align: top;\n",
       "    }\n",
       "\n",
       "    .dataframe thead th {\n",
       "        text-align: right;\n",
       "    }\n",
       "</style>\n",
       "<table border=\"1\" class=\"dataframe\">\n",
       "  <thead>\n",
       "    <tr style=\"text-align: right;\">\n",
       "      <th></th>\n",
       "      <th>month</th>\n",
       "      <th>friday</th>\n",
       "      <th>monday</th>\n",
       "      <th>saturday</th>\n",
       "      <th>sunday</th>\n",
       "      <th>thursday</th>\n",
       "      <th>tuesday</th>\n",
       "      <th>wednesday</th>\n",
       "    </tr>\n",
       "  </thead>\n",
       "  <tbody>\n",
       "    <tr>\n",
       "      <th>0</th>\n",
       "      <td>4</td>\n",
       "      <td>0</td>\n",
       "      <td>1</td>\n",
       "      <td>0</td>\n",
       "      <td>0</td>\n",
       "      <td>0</td>\n",
       "      <td>0</td>\n",
       "      <td>0</td>\n",
       "    </tr>\n",
       "    <tr>\n",
       "      <th>1</th>\n",
       "      <td>4</td>\n",
       "      <td>0</td>\n",
       "      <td>0</td>\n",
       "      <td>0</td>\n",
       "      <td>0</td>\n",
       "      <td>0</td>\n",
       "      <td>1</td>\n",
       "      <td>0</td>\n",
       "    </tr>\n",
       "    <tr>\n",
       "      <th>2</th>\n",
       "      <td>4</td>\n",
       "      <td>0</td>\n",
       "      <td>0</td>\n",
       "      <td>0</td>\n",
       "      <td>0</td>\n",
       "      <td>0</td>\n",
       "      <td>0</td>\n",
       "      <td>1</td>\n",
       "    </tr>\n",
       "    <tr>\n",
       "      <th>3</th>\n",
       "      <td>4</td>\n",
       "      <td>0</td>\n",
       "      <td>0</td>\n",
       "      <td>0</td>\n",
       "      <td>0</td>\n",
       "      <td>1</td>\n",
       "      <td>0</td>\n",
       "      <td>0</td>\n",
       "    </tr>\n",
       "    <tr>\n",
       "      <th>4</th>\n",
       "      <td>4</td>\n",
       "      <td>1</td>\n",
       "      <td>0</td>\n",
       "      <td>0</td>\n",
       "      <td>0</td>\n",
       "      <td>0</td>\n",
       "      <td>0</td>\n",
       "      <td>0</td>\n",
       "    </tr>\n",
       "    <tr>\n",
       "      <th>5</th>\n",
       "      <td>4</td>\n",
       "      <td>0</td>\n",
       "      <td>0</td>\n",
       "      <td>1</td>\n",
       "      <td>0</td>\n",
       "      <td>0</td>\n",
       "      <td>0</td>\n",
       "      <td>0</td>\n",
       "    </tr>\n",
       "    <tr>\n",
       "      <th>6</th>\n",
       "      <td>4</td>\n",
       "      <td>0</td>\n",
       "      <td>0</td>\n",
       "      <td>0</td>\n",
       "      <td>1</td>\n",
       "      <td>0</td>\n",
       "      <td>0</td>\n",
       "      <td>0</td>\n",
       "    </tr>\n",
       "  </tbody>\n",
       "</table>\n",
       "</div>"
      ],
      "text/plain": [
       "   month  friday  monday  saturday  sunday  thursday  tuesday  wednesday\n",
       "0      4       0       1         0       0         0        0          0\n",
       "1      4       0       0         0       0         0        1          0\n",
       "2      4       0       0         0       0         0        0          1\n",
       "3      4       0       0         0       0         1        0          0\n",
       "4      4       1       0         0       0         0        0          0\n",
       "5      4       0       0         1       0         0        0          0\n",
       "6      4       0       0         0       1         0        0          0"
      ]
     },
     "execution_count": 14,
     "metadata": {},
     "output_type": "execute_result"
    }
   ],
   "source": [
    "\n",
    "X['day'] = X['day'].map({0: 'monday', 1: 'tuesday', 2: 'wednesday', 3: 'thursday', 4: 'friday', 5: 'saturday', 6: 'sunday' })\n",
    "X = pd.get_dummies(X, prefix='', prefix_sep='',columns=['day'])\n",
    "X.head(7)"
   ]
  },
  {
   "cell_type": "markdown",
   "metadata": {},
   "source": [
    "#### Now, apply for months"
   ]
  },
  {
   "cell_type": "code",
   "execution_count": 15,
   "metadata": {},
   "outputs": [
    {
     "data": {
      "text/plain": [
       "array([4, 8])"
      ]
     },
     "execution_count": 15,
     "metadata": {},
     "output_type": "execute_result"
    }
   ],
   "source": [
    "df.month.unique()"
   ]
  },
  {
   "cell_type": "code",
   "execution_count": 16,
   "metadata": {},
   "outputs": [
    {
     "data": {
      "text/html": [
       "<div>\n",
       "<style scoped>\n",
       "    .dataframe tbody tr th:only-of-type {\n",
       "        vertical-align: middle;\n",
       "    }\n",
       "\n",
       "    .dataframe tbody tr th {\n",
       "        vertical-align: top;\n",
       "    }\n",
       "\n",
       "    .dataframe thead th {\n",
       "        text-align: right;\n",
       "    }\n",
       "</style>\n",
       "<table border=\"1\" class=\"dataframe\">\n",
       "  <thead>\n",
       "    <tr style=\"text-align: right;\">\n",
       "      <th></th>\n",
       "      <th>friday</th>\n",
       "      <th>monday</th>\n",
       "      <th>saturday</th>\n",
       "      <th>sunday</th>\n",
       "      <th>thursday</th>\n",
       "      <th>tuesday</th>\n",
       "      <th>wednesday</th>\n",
       "      <th>April</th>\n",
       "      <th>Aug</th>\n",
       "    </tr>\n",
       "  </thead>\n",
       "  <tbody>\n",
       "    <tr>\n",
       "      <th>0</th>\n",
       "      <td>0</td>\n",
       "      <td>1</td>\n",
       "      <td>0</td>\n",
       "      <td>0</td>\n",
       "      <td>0</td>\n",
       "      <td>0</td>\n",
       "      <td>0</td>\n",
       "      <td>1</td>\n",
       "      <td>0</td>\n",
       "    </tr>\n",
       "    <tr>\n",
       "      <th>1</th>\n",
       "      <td>0</td>\n",
       "      <td>0</td>\n",
       "      <td>0</td>\n",
       "      <td>0</td>\n",
       "      <td>0</td>\n",
       "      <td>1</td>\n",
       "      <td>0</td>\n",
       "      <td>1</td>\n",
       "      <td>0</td>\n",
       "    </tr>\n",
       "  </tbody>\n",
       "</table>\n",
       "</div>"
      ],
      "text/plain": [
       "   friday  monday  saturday  sunday  thursday  tuesday  wednesday  April  Aug\n",
       "0       0       1         0       0         0        0          0      1    0\n",
       "1       0       0         0       0         0        1          0      1    0"
      ]
     },
     "execution_count": 16,
     "metadata": {},
     "output_type": "execute_result"
    }
   ],
   "source": [
    "X['month'] = X['month'].map({1: 'Jan', 2: 'Feb',  3: 'March', 4: 'April', 5: 'May', 6: 'June', 7: 'July', 8: 'Aug', 9: 'Sept', 10: 'Oct', 11: 'Nov', 12: 'Dec' })\n",
    "X = pd.get_dummies(X, prefix='', prefix_sep='',columns=['month'])\n",
    "X.head(2)"
   ]
  },
  {
   "cell_type": "markdown",
   "metadata": {},
   "source": [
    "# Scaling and Train Test Split"
   ]
  },
  {
   "cell_type": "code",
   "execution_count": 17,
   "metadata": {},
   "outputs": [],
   "source": [
    "from sklearn.model_selection import train_test_split\n",
    "X_train, X_test, y_train, y_test = train_test_split(X,y,test_size=0.3,random_state=42)"
   ]
  },
  {
   "cell_type": "markdown",
   "metadata": {},
   "source": [
    "### Scaling\n",
    "\n",
    "*The main idea behind normalization/standardization is always the same. Variables that are measured at different scales do not contribute equally to the model fitting & model learned function and might end up creating a bias. Thus, to deal with this potential problem feature-wise normalization such as MinMax Scaling is usually used prior to model fitting.* [Source:https://bit.ly/2KTulBB]"
   ]
  },
  {
   "cell_type": "code",
   "execution_count": 18,
   "metadata": {},
   "outputs": [],
   "source": [
    "from sklearn.preprocessing import MinMaxScaler"
   ]
  },
  {
   "cell_type": "code",
   "execution_count": 19,
   "metadata": {},
   "outputs": [],
   "source": [
    "scaler = MinMaxScaler()\n",
    "X_train= scaler.fit_transform(X_train)\n",
    "X_test = scaler.transform(X_test)"
   ]
  },
  {
   "cell_type": "markdown",
   "metadata": {},
   "source": [
    "#  Model Creation"
   ]
  },
  {
   "cell_type": "code",
   "execution_count": 20,
   "metadata": {},
   "outputs": [
    {
     "name": "stderr",
     "output_type": "stream",
     "text": [
      "/home/bidur/.virtualenvs/sm/lib/python3.6/site-packages/tensorflow/python/framework/dtypes.py:516: FutureWarning: Passing (type, 1) or '1type' as a synonym of type is deprecated; in a future version of numpy, it will be understood as (type, (1,)) / '(1,)type'.\n",
      "  _np_qint8 = np.dtype([(\"qint8\", np.int8, 1)])\n",
      "/home/bidur/.virtualenvs/sm/lib/python3.6/site-packages/tensorflow/python/framework/dtypes.py:517: FutureWarning: Passing (type, 1) or '1type' as a synonym of type is deprecated; in a future version of numpy, it will be understood as (type, (1,)) / '(1,)type'.\n",
      "  _np_quint8 = np.dtype([(\"quint8\", np.uint8, 1)])\n",
      "/home/bidur/.virtualenvs/sm/lib/python3.6/site-packages/tensorflow/python/framework/dtypes.py:518: FutureWarning: Passing (type, 1) or '1type' as a synonym of type is deprecated; in a future version of numpy, it will be understood as (type, (1,)) / '(1,)type'.\n",
      "  _np_qint16 = np.dtype([(\"qint16\", np.int16, 1)])\n",
      "/home/bidur/.virtualenvs/sm/lib/python3.6/site-packages/tensorflow/python/framework/dtypes.py:519: FutureWarning: Passing (type, 1) or '1type' as a synonym of type is deprecated; in a future version of numpy, it will be understood as (type, (1,)) / '(1,)type'.\n",
      "  _np_quint16 = np.dtype([(\"quint16\", np.uint16, 1)])\n",
      "/home/bidur/.virtualenvs/sm/lib/python3.6/site-packages/tensorflow/python/framework/dtypes.py:520: FutureWarning: Passing (type, 1) or '1type' as a synonym of type is deprecated; in a future version of numpy, it will be understood as (type, (1,)) / '(1,)type'.\n",
      "  _np_qint32 = np.dtype([(\"qint32\", np.int32, 1)])\n",
      "/home/bidur/.virtualenvs/sm/lib/python3.6/site-packages/tensorflow/python/framework/dtypes.py:525: FutureWarning: Passing (type, 1) or '1type' as a synonym of type is deprecated; in a future version of numpy, it will be understood as (type, (1,)) / '(1,)type'.\n",
      "  np_resource = np.dtype([(\"resource\", np.ubyte, 1)])\n"
     ]
    },
    {
     "name": "stdout",
     "output_type": "stream",
     "text": [
      "WARNING:tensorflow:From /home/bidur/.virtualenvs/sm/lib/python3.6/site-packages/tensorflow/python/ops/init_ops.py:1251: calling VarianceScaling.__init__ (from tensorflow.python.ops.init_ops) with dtype is deprecated and will be removed in a future version.\n",
      "Instructions for updating:\n",
      "Call initializer instance with the dtype argument instead of passing it to the constructor\n"
     ]
    },
    {
     "name": "stderr",
     "output_type": "stream",
     "text": [
      "/home/bidur/.virtualenvs/sm/lib/python3.6/site-packages/tensorboard/compat/tensorflow_stub/dtypes.py:541: FutureWarning: Passing (type, 1) or '1type' as a synonym of type is deprecated; in a future version of numpy, it will be understood as (type, (1,)) / '(1,)type'.\n",
      "  _np_qint8 = np.dtype([(\"qint8\", np.int8, 1)])\n",
      "/home/bidur/.virtualenvs/sm/lib/python3.6/site-packages/tensorboard/compat/tensorflow_stub/dtypes.py:542: FutureWarning: Passing (type, 1) or '1type' as a synonym of type is deprecated; in a future version of numpy, it will be understood as (type, (1,)) / '(1,)type'.\n",
      "  _np_quint8 = np.dtype([(\"quint8\", np.uint8, 1)])\n",
      "/home/bidur/.virtualenvs/sm/lib/python3.6/site-packages/tensorboard/compat/tensorflow_stub/dtypes.py:543: FutureWarning: Passing (type, 1) or '1type' as a synonym of type is deprecated; in a future version of numpy, it will be understood as (type, (1,)) / '(1,)type'.\n",
      "  _np_qint16 = np.dtype([(\"qint16\", np.int16, 1)])\n",
      "/home/bidur/.virtualenvs/sm/lib/python3.6/site-packages/tensorboard/compat/tensorflow_stub/dtypes.py:544: FutureWarning: Passing (type, 1) or '1type' as a synonym of type is deprecated; in a future version of numpy, it will be understood as (type, (1,)) / '(1,)type'.\n",
      "  _np_quint16 = np.dtype([(\"quint16\", np.uint16, 1)])\n",
      "/home/bidur/.virtualenvs/sm/lib/python3.6/site-packages/tensorboard/compat/tensorflow_stub/dtypes.py:545: FutureWarning: Passing (type, 1) or '1type' as a synonym of type is deprecated; in a future version of numpy, it will be understood as (type, (1,)) / '(1,)type'.\n",
      "  _np_qint32 = np.dtype([(\"qint32\", np.int32, 1)])\n",
      "/home/bidur/.virtualenvs/sm/lib/python3.6/site-packages/tensorboard/compat/tensorflow_stub/dtypes.py:550: FutureWarning: Passing (type, 1) or '1type' as a synonym of type is deprecated; in a future version of numpy, it will be understood as (type, (1,)) / '(1,)type'.\n",
      "  np_resource = np.dtype([(\"resource\", np.ubyte, 1)])\n",
      "Using TensorFlow backend.\n"
     ]
    }
   ],
   "source": [
    "from tensorflow.keras.models import Sequential\n",
    "from tensorflow.keras.layers import Dense\n",
    "from tensorflow.keras.optimizers import RMSprop\n",
    "from tensorflow.keras.layers import Dropout\n",
    "import keras\n",
    "\n",
    "model = Sequential([\n",
    "     Dense(64, activation='relu', input_shape=[X_test.shape[1]]),\n",
    "     #Dropout(0.5), removing dropout improved in this particular example\n",
    "     Dense(64, activation='relu'),\n",
    "     Dense(1)\n",
    "  ])\n",
    "\n",
    "rmsprop = RMSprop(0.001)\n",
    "\n",
    "model.compile(loss='mean_squared_error',\n",
    "                optimizer=rmsprop,\n",
    "                metrics=['mean_absolute_error', 'mean_squared_error'])"
   ]
  },
  {
   "cell_type": "markdown",
   "metadata": {},
   "source": [
    "### Training"
   ]
  },
  {
   "cell_type": "code",
   "execution_count": 21,
   "metadata": {},
   "outputs": [
    {
     "name": "stdout",
     "output_type": "stream",
     "text": [
      "Train on 42 samples, validate on 19 samples\n",
      "Epoch 1/100\n",
      "42/42 [==============================] - 0s 10ms/sample - loss: 6618.1519 - mean_absolute_error: 79.3311 - mean_squared_error: 6618.1519 - val_loss: 6385.8518 - val_mean_absolute_error: 78.8079 - val_mean_squared_error: 6385.8521\n",
      "Epoch 2/100\n",
      "42/42 [==============================] - 0s 505us/sample - loss: 6565.2539 - mean_absolute_error: 79.0001 - mean_squared_error: 6565.2539 - val_loss: 6342.0147 - val_mean_absolute_error: 78.5282 - val_mean_squared_error: 6342.0146\n",
      "Epoch 3/100\n",
      "42/42 [==============================] - 0s 482us/sample - loss: 6521.0118 - mean_absolute_error: 78.7201 - mean_squared_error: 6521.0117 - val_loss: 6299.2323 - val_mean_absolute_error: 78.2543 - val_mean_squared_error: 6299.2324\n",
      "Epoch 4/100\n",
      "42/42 [==============================] - 0s 494us/sample - loss: 6477.3670 - mean_absolute_error: 78.4389 - mean_squared_error: 6477.3667 - val_loss: 6255.0636 - val_mean_absolute_error: 77.9698 - val_mean_squared_error: 6255.0635\n",
      "Epoch 5/100\n",
      "42/42 [==============================] - 0s 534us/sample - loss: 6430.2975 - mean_absolute_error: 78.1398 - mean_squared_error: 6430.2979 - val_loss: 6206.3398 - val_mean_absolute_error: 77.6550 - val_mean_squared_error: 6206.3398\n",
      "Epoch 6/100\n",
      "42/42 [==============================] - 0s 502us/sample - loss: 6378.7234 - mean_absolute_error: 77.8048 - mean_squared_error: 6378.7231 - val_loss: 6152.9431 - val_mean_absolute_error: 77.3084 - val_mean_squared_error: 6152.9434\n",
      "Epoch 7/100\n",
      "42/42 [==============================] - 0s 508us/sample - loss: 6322.6662 - mean_absolute_error: 77.4443 - mean_squared_error: 6322.6665 - val_loss: 6095.4208 - val_mean_absolute_error: 76.9340 - val_mean_squared_error: 6095.4209\n",
      "Epoch 8/100\n",
      "42/42 [==============================] - 0s 543us/sample - loss: 6262.0010 - mean_absolute_error: 77.0500 - mean_squared_error: 6262.0010 - val_loss: 6031.2903 - val_mean_absolute_error: 76.5146 - val_mean_squared_error: 6031.2905\n",
      "Epoch 9/100\n",
      "42/42 [==============================] - 0s 496us/sample - loss: 6195.8403 - mean_absolute_error: 76.6167 - mean_squared_error: 6195.8403 - val_loss: 5962.6316 - val_mean_absolute_error: 76.0625 - val_mean_squared_error: 5962.6313\n",
      "Epoch 10/100\n",
      "42/42 [==============================] - 0s 476us/sample - loss: 6124.0426 - mean_absolute_error: 76.1544 - mean_squared_error: 6124.0430 - val_loss: 5886.3542 - val_mean_absolute_error: 75.5575 - val_mean_squared_error: 5886.3540\n",
      "Epoch 11/100\n",
      "42/42 [==============================] - 0s 466us/sample - loss: 6045.1480 - mean_absolute_error: 75.6285 - mean_squared_error: 6045.1479 - val_loss: 5805.6327 - val_mean_absolute_error: 75.0196 - val_mean_squared_error: 5805.6328\n",
      "Epoch 12/100\n",
      "42/42 [==============================] - ETA: 0s - loss: 5454.7739 - mean_absolute_error: 73.3913 - mean_squared_error: 5454.773 - 0s 480us/sample - loss: 5962.5209 - mean_absolute_error: 75.0766 - mean_squared_error: 5962.5210 - val_loss: 5721.4610 - val_mean_absolute_error: 74.4546 - val_mean_squared_error: 5721.4609\n",
      "Epoch 13/100\n",
      "42/42 [==============================] - 0s 497us/sample - loss: 5874.9325 - mean_absolute_error: 74.4867 - mean_squared_error: 5874.9326 - val_loss: 5631.8905 - val_mean_absolute_error: 73.8493 - val_mean_squared_error: 5631.8906\n",
      "Epoch 14/100\n",
      "42/42 [==============================] - 0s 535us/sample - loss: 5782.6955 - mean_absolute_error: 73.8589 - mean_squared_error: 5782.6958 - val_loss: 5538.0614 - val_mean_absolute_error: 73.2097 - val_mean_squared_error: 5538.0610\n",
      "Epoch 15/100\n",
      "42/42 [==============================] - 0s 516us/sample - loss: 5684.8270 - mean_absolute_error: 73.1994 - mean_squared_error: 5684.8271 - val_loss: 5436.0379 - val_mean_absolute_error: 72.5084 - val_mean_squared_error: 5436.0376\n",
      "Epoch 16/100\n",
      "42/42 [==============================] - 0s 506us/sample - loss: 5580.8286 - mean_absolute_error: 72.4903 - mean_squared_error: 5580.8286 - val_loss: 5329.9612 - val_mean_absolute_error: 71.7721 - val_mean_squared_error: 5329.9614\n",
      "Epoch 17/100\n",
      "42/42 [==============================] - 0s 524us/sample - loss: 5471.4120 - mean_absolute_error: 71.7311 - mean_squared_error: 5471.4121 - val_loss: 5218.9400 - val_mean_absolute_error: 70.9930 - val_mean_squared_error: 5218.9399\n",
      "Epoch 18/100\n",
      "42/42 [==============================] - 0s 468us/sample - loss: 5357.0689 - mean_absolute_error: 70.9363 - mean_squared_error: 5357.0688 - val_loss: 5102.7351 - val_mean_absolute_error: 70.1678 - val_mean_squared_error: 5102.7354\n",
      "Epoch 19/100\n",
      "42/42 [==============================] - 0s 483us/sample - loss: 5237.4549 - mean_absolute_error: 70.0733 - mean_squared_error: 5237.4551 - val_loss: 4983.2442 - val_mean_absolute_error: 69.3091 - val_mean_squared_error: 4983.2441\n",
      "Epoch 20/100\n",
      "42/42 [==============================] - 0s 468us/sample - loss: 5113.2868 - mean_absolute_error: 69.1955 - mean_squared_error: 5113.2866 - val_loss: 4856.5426 - val_mean_absolute_error: 68.3855 - val_mean_squared_error: 4856.5430\n",
      "Epoch 21/100\n",
      "42/42 [==============================] - 0s 530us/sample - loss: 4982.5317 - mean_absolute_error: 68.2332 - mean_squared_error: 4982.5322 - val_loss: 4723.7605 - val_mean_absolute_error: 67.4060 - val_mean_squared_error: 4723.7607\n",
      "Epoch 22/100\n",
      "42/42 [==============================] - 0s 437us/sample - loss: 4846.8201 - mean_absolute_error: 67.2509 - mean_squared_error: 4846.8198 - val_loss: 4584.8982 - val_mean_absolute_error: 66.3655 - val_mean_squared_error: 4584.8979\n",
      "Epoch 23/100\n",
      "42/42 [==============================] - 0s 463us/sample - loss: 4706.3322 - mean_absolute_error: 66.1680 - mean_squared_error: 4706.3320 - val_loss: 4444.8454 - val_mean_absolute_error: 65.2993 - val_mean_squared_error: 4444.8452\n",
      "Epoch 24/100\n",
      "42/42 [==============================] - 0s 451us/sample - loss: 4564.5728 - mean_absolute_error: 65.0840 - mean_squared_error: 4564.5728 - val_loss: 4302.0588 - val_mean_absolute_error: 64.1945 - val_mean_squared_error: 4302.0586\n",
      "Epoch 25/100\n",
      "42/42 [==============================] - 0s 446us/sample - loss: 4415.6971 - mean_absolute_error: 63.9693 - mean_squared_error: 4415.6973 - val_loss: 4152.2874 - val_mean_absolute_error: 63.0121 - val_mean_squared_error: 4152.2876\n",
      "Epoch 26/100\n",
      "42/42 [==============================] - 0s 423us/sample - loss: 4261.2305 - mean_absolute_error: 62.7313 - mean_squared_error: 4261.2305 - val_loss: 3999.3103 - val_mean_absolute_error: 61.7827 - val_mean_squared_error: 3999.3105\n",
      "Epoch 27/100\n",
      "42/42 [==============================] - 0s 442us/sample - loss: 4105.1585 - mean_absolute_error: 61.4574 - mean_squared_error: 4105.1587 - val_loss: 3845.3615 - val_mean_absolute_error: 60.5190 - val_mean_squared_error: 3845.3613\n",
      "Epoch 28/100\n",
      "42/42 [==============================] - 0s 460us/sample - loss: 3945.9222 - mean_absolute_error: 60.2064 - mean_squared_error: 3945.9224 - val_loss: 3679.9619 - val_mean_absolute_error: 59.1309 - val_mean_squared_error: 3679.9617\n",
      "Epoch 29/100\n",
      "42/42 [==============================] - 0s 469us/sample - loss: 3778.8378 - mean_absolute_error: 58.7440 - mean_squared_error: 3778.8379 - val_loss: 3519.2235 - val_mean_absolute_error: 57.7518 - val_mean_squared_error: 3519.2236\n",
      "Epoch 30/100\n",
      "42/42 [==============================] - 0s 450us/sample - loss: 3617.3523 - mean_absolute_error: 57.3351 - mean_squared_error: 3617.3523 - val_loss: 3358.2195 - val_mean_absolute_error: 56.3340 - val_mean_squared_error: 3358.2195\n",
      "Epoch 31/100\n",
      "42/42 [==============================] - 0s 498us/sample - loss: 3451.9931 - mean_absolute_error: 55.8909 - mean_squared_error: 3451.9929 - val_loss: 3191.7682 - val_mean_absolute_error: 54.8310 - val_mean_squared_error: 3191.7681\n",
      "Epoch 32/100\n",
      "42/42 [==============================] - 0s 513us/sample - loss: 3284.2556 - mean_absolute_error: 54.3633 - mean_squared_error: 3284.2556 - val_loss: 3025.5419 - val_mean_absolute_error: 53.2869 - val_mean_squared_error: 3025.5420\n",
      "Epoch 33/100\n",
      "42/42 [==============================] - 0s 529us/sample - loss: 3114.8213 - mean_absolute_error: 52.7843 - mean_squared_error: 3114.8213 - val_loss: 2858.7453 - val_mean_absolute_error: 51.6897 - val_mean_squared_error: 2858.7454\n",
      "Epoch 34/100\n",
      "42/42 [==============================] - 0s 482us/sample - loss: 2947.2052 - mean_absolute_error: 51.1050 - mean_squared_error: 2947.2053 - val_loss: 2694.6074 - val_mean_absolute_error: 50.0701 - val_mean_squared_error: 2694.6074\n",
      "Epoch 35/100\n",
      "42/42 [==============================] - 0s 502us/sample - loss: 2778.1530 - mean_absolute_error: 49.5000 - mean_squared_error: 2778.1528 - val_loss: 2523.2938 - val_mean_absolute_error: 48.3224 - val_mean_squared_error: 2523.2937\n",
      "Epoch 36/100\n",
      "42/42 [==============================] - 0s 488us/sample - loss: 2607.6222 - mean_absolute_error: 47.6846 - mean_squared_error: 2607.6223 - val_loss: 2357.7566 - val_mean_absolute_error: 46.5697 - val_mean_squared_error: 2357.7566\n",
      "Epoch 37/100\n",
      "42/42 [==============================] - 0s 499us/sample - loss: 2441.3915 - mean_absolute_error: 45.8879 - mean_squared_error: 2441.3914 - val_loss: 2196.8445 - val_mean_absolute_error: 44.7983 - val_mean_squared_error: 2196.8445\n",
      "Epoch 38/100\n",
      "42/42 [==============================] - 0s 500us/sample - loss: 2276.8817 - mean_absolute_error: 44.1166 - mean_squared_error: 2276.8816 - val_loss: 2030.3261 - val_mean_absolute_error: 42.8883 - val_mean_squared_error: 2030.3260\n",
      "Epoch 39/100\n",
      "42/42 [==============================] - 0s 465us/sample - loss: 2108.5837 - mean_absolute_error: 42.1375 - mean_squared_error: 2108.5837 - val_loss: 1869.6772 - val_mean_absolute_error: 40.9570 - val_mean_squared_error: 1869.6772\n",
      "Epoch 40/100\n",
      "42/42 [==============================] - 0s 465us/sample - loss: 1946.8201 - mean_absolute_error: 40.1854 - mean_squared_error: 1946.8201 - val_loss: 1712.8632 - val_mean_absolute_error: 38.9815 - val_mean_squared_error: 1712.8633\n",
      "Epoch 41/100\n",
      "42/42 [==============================] - 0s 531us/sample - loss: 1790.7617 - mean_absolute_error: 38.1353 - mean_squared_error: 1790.7617 - val_loss: 1564.4115 - val_mean_absolute_error: 37.0122 - val_mean_squared_error: 1564.4115\n",
      "Epoch 42/100\n",
      "42/42 [==============================] - 0s 522us/sample - loss: 1640.4134 - mean_absolute_error: 36.1472 - mean_squared_error: 1640.4133 - val_loss: 1417.2308 - val_mean_absolute_error: 34.9502 - val_mean_squared_error: 1417.2308\n",
      "Epoch 43/100\n",
      "42/42 [==============================] - 0s 491us/sample - loss: 1494.6014 - mean_absolute_error: 34.0492 - mean_squared_error: 1494.6014 - val_loss: 1277.4615 - val_mean_absolute_error: 32.8713 - val_mean_squared_error: 1277.4614\n",
      "Epoch 44/100\n",
      "42/42 [==============================] - 0s 495us/sample - loss: 1355.7255 - mean_absolute_error: 31.9823 - mean_squared_error: 1355.7256 - val_loss: 1142.1827 - val_mean_absolute_error: 30.8551 - val_mean_squared_error: 1142.1827\n",
      "Epoch 45/100\n",
      "42/42 [==============================] - 0s 490us/sample - loss: 1221.1884 - mean_absolute_error: 29.7684 - mean_squared_error: 1221.1885 - val_loss: 1015.3663 - val_mean_absolute_error: 28.9359 - val_mean_squared_error: 1015.3663\n",
      "Epoch 46/100\n",
      "42/42 [==============================] - 0s 480us/sample - loss: 1097.3087 - mean_absolute_error: 27.6084 - mean_squared_error: 1097.3087 - val_loss: 899.0838 - val_mean_absolute_error: 27.0333 - val_mean_squared_error: 899.0838\n",
      "Epoch 47/100\n",
      "42/42 [==============================] - 0s 457us/sample - loss: 983.7883 - mean_absolute_error: 25.6419 - mean_squared_error: 983.7882 - val_loss: 789.2443 - val_mean_absolute_error: 25.0859 - val_mean_squared_error: 789.2443\n",
      "Epoch 48/100\n",
      "42/42 [==============================] - 0s 513us/sample - loss: 875.8236 - mean_absolute_error: 23.6926 - mean_squared_error: 875.8237 - val_loss: 688.3303 - val_mean_absolute_error: 23.1304 - val_mean_squared_error: 688.3303\n",
      "Epoch 49/100\n",
      "42/42 [==============================] - 0s 489us/sample - loss: 779.3556 - mean_absolute_error: 21.9354 - mean_squared_error: 779.3556 - val_loss: 600.1662 - val_mean_absolute_error: 21.2410 - val_mean_squared_error: 600.1662\n",
      "Epoch 50/100\n",
      "42/42 [==============================] - 0s 524us/sample - loss: 692.9203 - mean_absolute_error: 20.1748 - mean_squared_error: 692.9203 - val_loss: 520.5474 - val_mean_absolute_error: 19.3361 - val_mean_squared_error: 520.5474\n",
      "Epoch 51/100\n",
      "42/42 [==============================] - 0s 477us/sample - loss: 614.9797 - mean_absolute_error: 18.5435 - mean_squared_error: 614.9797 - val_loss: 449.8876 - val_mean_absolute_error: 17.5120 - val_mean_squared_error: 449.8876\n",
      "Epoch 52/100\n",
      "42/42 [==============================] - 0s 517us/sample - loss: 547.4499 - mean_absolute_error: 17.0776 - mean_squared_error: 547.4499 - val_loss: 388.1054 - val_mean_absolute_error: 15.9710 - val_mean_squared_error: 388.1054\n",
      "Epoch 53/100\n",
      "42/42 [==============================] - 0s 436us/sample - loss: 489.8464 - mean_absolute_error: 15.8307 - mean_squared_error: 489.8464 - val_loss: 340.4181 - val_mean_absolute_error: 14.6970 - val_mean_squared_error: 340.4181\n",
      "Epoch 54/100\n",
      "42/42 [==============================] - 0s 469us/sample - loss: 446.3324 - mean_absolute_error: 14.8579 - mean_squared_error: 446.3324 - val_loss: 304.3380 - val_mean_absolute_error: 13.7196 - val_mean_squared_error: 304.3380\n",
      "Epoch 55/100\n",
      "42/42 [==============================] - 0s 445us/sample - loss: 412.2500 - mean_absolute_error: 14.2477 - mean_squared_error: 412.2500 - val_loss: 275.1608 - val_mean_absolute_error: 13.0702 - val_mean_squared_error: 275.1608\n",
      "Epoch 56/100\n",
      "42/42 [==============================] - 0s 465us/sample - loss: 384.1876 - mean_absolute_error: 13.6997 - mean_squared_error: 384.1876 - val_loss: 251.3840 - val_mean_absolute_error: 12.7775 - val_mean_squared_error: 251.3840\n",
      "Epoch 57/100\n",
      "42/42 [==============================] - 0s 469us/sample - loss: 361.8214 - mean_absolute_error: 13.6175 - mean_squared_error: 361.8214 - val_loss: 234.4611 - val_mean_absolute_error: 12.6557 - val_mean_squared_error: 234.4611\n",
      "Epoch 58/100\n",
      "42/42 [==============================] - 0s 471us/sample - loss: 344.9241 - mean_absolute_error: 13.4221 - mean_squared_error: 344.9241 - val_loss: 220.1170 - val_mean_absolute_error: 12.5440 - val_mean_squared_error: 220.1170\n",
      "Epoch 59/100\n",
      "42/42 [==============================] - 0s 452us/sample - loss: 332.4431 - mean_absolute_error: 13.3948 - mean_squared_error: 332.4431 - val_loss: 215.4324 - val_mean_absolute_error: 12.4556 - val_mean_squared_error: 215.4324\n",
      "Epoch 60/100\n",
      "42/42 [==============================] - 0s 478us/sample - loss: 323.7072 - mean_absolute_error: 13.2046 - mean_squared_error: 323.7072 - val_loss: 211.0579 - val_mean_absolute_error: 12.3822 - val_mean_squared_error: 211.0579\n",
      "Epoch 61/100\n",
      "42/42 [==============================] - 0s 465us/sample - loss: 315.6067 - mean_absolute_error: 13.1616 - mean_squared_error: 315.6068 - val_loss: 207.5932 - val_mean_absolute_error: 12.3121 - val_mean_squared_error: 207.5932\n",
      "Epoch 62/100\n",
      "42/42 [==============================] - 0s 470us/sample - loss: 311.5456 - mean_absolute_error: 13.1836 - mean_squared_error: 311.5456 - val_loss: 207.8191 - val_mean_absolute_error: 12.2613 - val_mean_squared_error: 207.8191\n",
      "Epoch 63/100\n",
      "42/42 [==============================] - 0s 516us/sample - loss: 304.3728 - mean_absolute_error: 13.0065 - mean_squared_error: 304.3728 - val_loss: 205.4078 - val_mean_absolute_error: 12.1775 - val_mean_squared_error: 205.4078\n",
      "Epoch 64/100\n",
      "42/42 [==============================] - 0s 490us/sample - loss: 303.2274 - mean_absolute_error: 13.0625 - mean_squared_error: 303.2274 - val_loss: 204.6550 - val_mean_absolute_error: 12.1166 - val_mean_squared_error: 204.6550\n",
      "Epoch 65/100\n",
      "42/42 [==============================] - 0s 465us/sample - loss: 299.3087 - mean_absolute_error: 13.0125 - mean_squared_error: 299.3087 - val_loss: 203.2494 - val_mean_absolute_error: 12.0444 - val_mean_squared_error: 203.2494\n",
      "Epoch 66/100\n",
      "42/42 [==============================] - 0s 456us/sample - loss: 294.9443 - mean_absolute_error: 12.9745 - mean_squared_error: 294.9442 - val_loss: 202.0833 - val_mean_absolute_error: 11.9664 - val_mean_squared_error: 202.0833\n",
      "Epoch 67/100\n",
      "42/42 [==============================] - 0s 457us/sample - loss: 297.4882 - mean_absolute_error: 13.1806 - mean_squared_error: 297.4882 - val_loss: 203.5166 - val_mean_absolute_error: 11.9561 - val_mean_squared_error: 203.5166\n",
      "Epoch 68/100\n",
      "42/42 [==============================] - 0s 429us/sample - loss: 290.6798 - mean_absolute_error: 12.7227 - mean_squared_error: 290.6798 - val_loss: 201.6365 - val_mean_absolute_error: 11.8615 - val_mean_squared_error: 201.6365\n",
      "Epoch 69/100\n",
      "42/42 [==============================] - 0s 469us/sample - loss: 287.4255 - mean_absolute_error: 12.8555 - mean_squared_error: 287.4254 - val_loss: 202.1855 - val_mean_absolute_error: 11.8508 - val_mean_squared_error: 202.1855\n",
      "Epoch 70/100\n",
      "42/42 [==============================] - 0s 452us/sample - loss: 286.1005 - mean_absolute_error: 12.8015 - mean_squared_error: 286.1005 - val_loss: 201.7514 - val_mean_absolute_error: 11.7995 - val_mean_squared_error: 201.7514\n",
      "Epoch 71/100\n",
      "42/42 [==============================] - 0s 428us/sample - loss: 284.7389 - mean_absolute_error: 12.7926 - mean_squared_error: 284.7389 - val_loss: 202.9443 - val_mean_absolute_error: 11.7665 - val_mean_squared_error: 202.9443\n",
      "Epoch 72/100\n",
      "42/42 [==============================] - 0s 417us/sample - loss: 285.2271 - mean_absolute_error: 12.5994 - mean_squared_error: 285.2271 - val_loss: 202.5217 - val_mean_absolute_error: 11.7229 - val_mean_squared_error: 202.5217\n",
      "Epoch 73/100\n",
      "42/42 [==============================] - 0s 425us/sample - loss: 283.2654 - mean_absolute_error: 12.7510 - mean_squared_error: 283.2654 - val_loss: 202.2934 - val_mean_absolute_error: 11.6830 - val_mean_squared_error: 202.2934\n",
      "Epoch 74/100\n",
      "42/42 [==============================] - 0s 442us/sample - loss: 280.4902 - mean_absolute_error: 12.6073 - mean_squared_error: 280.4902 - val_loss: 201.2222 - val_mean_absolute_error: 11.6124 - val_mean_squared_error: 201.2222\n",
      "Epoch 75/100\n",
      "42/42 [==============================] - 0s 411us/sample - loss: 286.5782 - mean_absolute_error: 12.8690 - mean_squared_error: 286.5782 - val_loss: 201.3120 - val_mean_absolute_error: 11.5842 - val_mean_squared_error: 201.3120\n",
      "Epoch 76/100\n",
      "42/42 [==============================] - 0s 463us/sample - loss: 279.0825 - mean_absolute_error: 12.5966 - mean_squared_error: 279.0826 - val_loss: 201.8809 - val_mean_absolute_error: 11.5475 - val_mean_squared_error: 201.8809\n",
      "Epoch 77/100\n",
      "42/42 [==============================] - 0s 464us/sample - loss: 282.8699 - mean_absolute_error: 12.6575 - mean_squared_error: 282.8699 - val_loss: 201.5668 - val_mean_absolute_error: 11.5207 - val_mean_squared_error: 201.5668\n",
      "Epoch 78/100\n",
      "42/42 [==============================] - 0s 427us/sample - loss: 277.5380 - mean_absolute_error: 12.4907 - mean_squared_error: 277.5379 - val_loss: 200.9911 - val_mean_absolute_error: 11.5029 - val_mean_squared_error: 200.9911\n",
      "Epoch 79/100\n",
      "42/42 [==============================] - 0s 412us/sample - loss: 276.0045 - mean_absolute_error: 12.5276 - mean_squared_error: 276.0045 - val_loss: 200.4532 - val_mean_absolute_error: 11.4705 - val_mean_squared_error: 200.4532\n",
      "Epoch 80/100\n",
      "42/42 [==============================] - 0s 427us/sample - loss: 278.0381 - mean_absolute_error: 12.6273 - mean_squared_error: 278.0381 - val_loss: 199.0640 - val_mean_absolute_error: 11.4180 - val_mean_squared_error: 199.0640\n",
      "Epoch 81/100\n",
      "42/42 [==============================] - 0s 502us/sample - loss: 275.5054 - mean_absolute_error: 12.6503 - mean_squared_error: 275.5054 - val_loss: 199.1244 - val_mean_absolute_error: 11.3904 - val_mean_squared_error: 199.1244\n",
      "Epoch 82/100\n",
      "42/42 [==============================] - 0s 509us/sample - loss: 279.0352 - mean_absolute_error: 12.6156 - mean_squared_error: 279.0352 - val_loss: 198.6750 - val_mean_absolute_error: 11.3592 - val_mean_squared_error: 198.6750\n",
      "Epoch 83/100\n",
      "42/42 [==============================] - 0s 513us/sample - loss: 277.3770 - mean_absolute_error: 12.5823 - mean_squared_error: 277.3770 - val_loss: 198.1640 - val_mean_absolute_error: 11.3465 - val_mean_squared_error: 198.1640\n",
      "Epoch 84/100\n",
      "42/42 [==============================] - 0s 481us/sample - loss: 273.6307 - mean_absolute_error: 12.5699 - mean_squared_error: 273.6307 - val_loss: 199.2530 - val_mean_absolute_error: 11.3006 - val_mean_squared_error: 199.2530\n",
      "Epoch 85/100\n",
      "42/42 [==============================] - 0s 515us/sample - loss: 274.2576 - mean_absolute_error: 12.4919 - mean_squared_error: 274.2576 - val_loss: 199.3305 - val_mean_absolute_error: 11.2886 - val_mean_squared_error: 199.3305\n",
      "Epoch 86/100\n",
      "42/42 [==============================] - 0s 523us/sample - loss: 272.4406 - mean_absolute_error: 12.5243 - mean_squared_error: 272.4406 - val_loss: 199.6355 - val_mean_absolute_error: 11.2453 - val_mean_squared_error: 199.6355\n",
      "Epoch 87/100\n",
      "42/42 [==============================] - 0s 489us/sample - loss: 273.2686 - mean_absolute_error: 12.5098 - mean_squared_error: 273.2686 - val_loss: 200.1398 - val_mean_absolute_error: 11.2573 - val_mean_squared_error: 200.1398\n",
      "Epoch 88/100\n",
      "42/42 [==============================] - 0s 524us/sample - loss: 272.5343 - mean_absolute_error: 12.4484 - mean_squared_error: 272.5342 - val_loss: 197.1014 - val_mean_absolute_error: 11.2088 - val_mean_squared_error: 197.1014\n",
      "Epoch 89/100\n",
      "42/42 [==============================] - 0s 512us/sample - loss: 279.0951 - mean_absolute_error: 12.7844 - mean_squared_error: 279.0951 - val_loss: 198.8576 - val_mean_absolute_error: 11.2159 - val_mean_squared_error: 198.8576\n",
      "Epoch 90/100\n",
      "42/42 [==============================] - 0s 504us/sample - loss: 274.3005 - mean_absolute_error: 12.4750 - mean_squared_error: 274.3005 - val_loss: 198.0590 - val_mean_absolute_error: 11.1942 - val_mean_squared_error: 198.0590\n",
      "Epoch 91/100\n",
      "42/42 [==============================] - 0s 485us/sample - loss: 271.8669 - mean_absolute_error: 12.3856 - mean_squared_error: 271.8669 - val_loss: 197.6436 - val_mean_absolute_error: 11.1725 - val_mean_squared_error: 197.6436\n",
      "Epoch 92/100\n",
      "42/42 [==============================] - 0s 455us/sample - loss: 272.5165 - mean_absolute_error: 12.3561 - mean_squared_error: 272.5165 - val_loss: 194.9423 - val_mean_absolute_error: 11.1027 - val_mean_squared_error: 194.9423\n",
      "Epoch 93/100\n",
      "42/42 [==============================] - 0s 509us/sample - loss: 284.8977 - mean_absolute_error: 12.8249 - mean_squared_error: 284.8977 - val_loss: 193.9733 - val_mean_absolute_error: 11.0831 - val_mean_squared_error: 193.9733\n",
      "Epoch 94/100\n",
      "42/42 [==============================] - 0s 522us/sample - loss: 276.7128 - mean_absolute_error: 12.5521 - mean_squared_error: 276.7128 - val_loss: 193.6405 - val_mean_absolute_error: 11.0726 - val_mean_squared_error: 193.6405\n",
      "Epoch 95/100\n",
      "42/42 [==============================] - 0s 495us/sample - loss: 270.3600 - mean_absolute_error: 12.4012 - mean_squared_error: 270.3600 - val_loss: 192.9255 - val_mean_absolute_error: 11.0475 - val_mean_squared_error: 192.9255\n",
      "Epoch 96/100\n",
      "42/42 [==============================] - 0s 495us/sample - loss: 272.0817 - mean_absolute_error: 12.3680 - mean_squared_error: 272.0817 - val_loss: 193.2013 - val_mean_absolute_error: 11.0466 - val_mean_squared_error: 193.2013\n",
      "Epoch 97/100\n",
      "42/42 [==============================] - 0s 506us/sample - loss: 275.9015 - mean_absolute_error: 12.4386 - mean_squared_error: 275.9015 - val_loss: 192.2212 - val_mean_absolute_error: 11.0200 - val_mean_squared_error: 192.2212\n",
      "Epoch 98/100\n",
      "42/42 [==============================] - 0s 504us/sample - loss: 271.2780 - mean_absolute_error: 12.4458 - mean_squared_error: 271.2780 - val_loss: 192.7392 - val_mean_absolute_error: 11.0264 - val_mean_squared_error: 192.7392\n",
      "Epoch 99/100\n",
      "42/42 [==============================] - 0s 501us/sample - loss: 271.8616 - mean_absolute_error: 12.4073 - mean_squared_error: 271.8616 - val_loss: 193.3040 - val_mean_absolute_error: 11.0475 - val_mean_squared_error: 193.3040\n",
      "Epoch 100/100\n",
      "42/42 [==============================] - 0s 512us/sample - loss: 273.0136 - mean_absolute_error: 12.4925 - mean_squared_error: 273.0136 - val_loss: 194.4912 - val_mean_absolute_error: 11.0505 - val_mean_squared_error: 194.4912\n"
     ]
    },
    {
     "data": {
      "text/plain": [
       "<tensorflow.python.keras.callbacks.History at 0x7f127726eda0>"
      ]
     },
     "execution_count": 21,
     "metadata": {},
     "output_type": "execute_result"
    }
   ],
   "source": [
    "model.fit(x=X_train,y=y_train.values,\n",
    "          validation_data=(X_test,y_test.values),\n",
    "          batch_size=16,epochs=100) "
   ]
  },
  {
   "cell_type": "markdown",
   "metadata": {},
   "source": [
    "# Evaluation "
   ]
  },
  {
   "cell_type": "markdown",
   "metadata": {},
   "source": [
    "### Lets check the performance curves"
   ]
  },
  {
   "cell_type": "code",
   "execution_count": 22,
   "metadata": {},
   "outputs": [
    {
     "data": {
      "text/plain": [
       "<AxesSubplot:>"
      ]
     },
     "execution_count": 22,
     "metadata": {},
     "output_type": "execute_result"
    },
    {
     "data": {
      "image/png": "[encoded data removed]",
      "text/plain": [
       "<Figure size 432x288 with 1 Axes>"
      ]
     },
     "metadata": {
      "needs_background": "light"
     },
     "output_type": "display_data"
    }
   ],
   "source": [
    "losses = pd.DataFrame(model.history.history)\n",
    "losses.plot()"
   ]
  },
  {
   "cell_type": "markdown",
   "metadata": {},
   "source": [
    "### Predictions"
   ]
  },
  {
   "cell_type": "code",
   "execution_count": 23,
   "metadata": {},
   "outputs": [],
   "source": [
    "from sklearn.metrics import mean_squared_error,mean_absolute_error"
   ]
  },
  {
   "cell_type": "code",
   "execution_count": 24,
   "metadata": {},
   "outputs": [],
   "source": [
    "predictions = model.predict(X_test)"
   ]
  },
  {
   "cell_type": "code",
   "execution_count": 25,
   "metadata": {},
   "outputs": [],
   "source": [
    "mae=mean_absolute_error(y_test,predictions)"
   ]
  },
  {
   "cell_type": "code",
   "execution_count": 26,
   "metadata": {},
   "outputs": [],
   "source": [
    "mse=mean_squared_error(y_test,predictions)"
   ]
  },
  {
   "cell_type": "code",
   "execution_count": 27,
   "metadata": {},
   "outputs": [
    {
     "data": {
      "text/plain": [
       "(11.050486514442845, 194.49120702638635, 13.946010434041211)"
      ]
     },
     "execution_count": 27,
     "metadata": {},
     "output_type": "execute_result"
    }
   ],
   "source": [
    "from sklearn.metrics import mean_squared_error\n",
    "rms = mean_squared_error(y_test,predictions, squared=False)\n",
    "mae,mse,rms"
   ]
  },
  {
   "cell_type": "code",
   "execution_count": 28,
   "metadata": {},
   "outputs": [
    {
     "data": {
      "text/plain": [
       "array([[73.54555 ],\n",
       "       [68.83503 ],\n",
       "       [75.18122 ],\n",
       "       [79.51901 ],\n",
       "       [71.648125],\n",
       "       [83.857605],\n",
       "       [83.857605],\n",
       "       [83.29013 ],\n",
       "       [68.83503 ],\n",
       "       [79.29383 ],\n",
       "       [79.29383 ],\n",
       "       [79.51901 ],\n",
       "       [78.30714 ],\n",
       "       [78.61382 ],\n",
       "       [75.18122 ],\n",
       "       [78.61382 ],\n",
       "       [72.740166],\n",
       "       [71.648125],\n",
       "       [83.857605]], dtype=float32)"
      ]
     },
     "execution_count": 28,
     "metadata": {},
     "output_type": "execute_result"
    }
   ],
   "source": [
    "predictions"
   ]
  },
  {
   "cell_type": "code",
   "execution_count": 29,
   "metadata": {},
   "outputs": [
    {
     "data": {
      "text/plain": [
       "0      72\n",
       "5     102\n",
       "46     70\n",
       "31     50\n",
       "13     94\n",
       "55     70\n",
       "34     85\n",
       "49     92\n",
       "12     65\n",
       "40     93\n",
       "33     68\n",
       "59     74\n",
       "16     72\n",
       "3      89\n",
       "53     80\n",
       "17     89\n",
       "8      65\n",
       "6      79\n",
       "41     97\n",
       "Name: car_count, dtype: int64"
      ]
     },
     "execution_count": 29,
     "metadata": {},
     "output_type": "execute_result"
    }
   ],
   "source": [
    "y_test"
   ]
  },
  {
   "cell_type": "code",
   "execution_count": null,
   "metadata": {},
   "outputs": [],
   "source": []
  },
  {
   "cell_type": "code",
   "execution_count": null,
   "metadata": {},
   "outputs": [],
   "source": []
  }
 ],
 "metadata": {
  "kernelspec": {
   "display_name": "Python 3",
   "language": "python",
   "name": "python3"
  },
  "language_info": {
   "codemirror_mode": {
    "name": "ipython",
    "version": 3
   },
   "file_extension": ".py",
   "mimetype": "text/x-python",
   "name": "python",
   "nbconvert_exporter": "python",
   "pygments_lexer": "ipython3",
   "version": "3.6.9"
  }
 },
 "nbformat": 4,
 "nbformat_minor": 4
}
