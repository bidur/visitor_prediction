{
 "cells": [
  {
   "cell_type": "markdown",
   "metadata": {},
   "source": [
    "# Preprocess raw data for counting vehicles visiting the selected spot."
   ]
  },
  {
   "cell_type": "markdown",
   "metadata": {},
   "source": [
    "## Read and preprocess vehicle GPS logs\n",
    "- The input dataset is assumed to have fields below:\n",
    " - serial: ID of GPS loggers on vehicles.\n",
    " - tripcount: ID of trips between drives start and end.\n",
    " - tripid: Timestamps of trips start. \n",
    " - tlm_datagettime: Timestamp of each lat/lon log.\n",
    " - lat: latitude logged by GPS.\n",
    " - lon: longitude logged by GPS.\n",
    "- The field names 'serial' and 'tlm_datage' are renamed as 'ap_id' and 'timestamp' in function.py."
   ]
  },
  {
   "cell_type": "code",
   "execution_count": null,
   "metadata": {},
   "outputs": [],
   "source": [
    "import pandas as pd\n",
    "import os\n",
    "from functions import read_input_data, prepare_trip_summary, merge_consecutive_trips_in_single_day"
   ]
  },
  {
   "cell_type": "code",
   "execution_count": null,
   "metadata": {},
   "outputs": [],
   "source": [
    "input_csv='2019-04_2019-08_GyokuSendo.csv'\n",
    "output_dir = 'output/'\n",
    "os.makedirs(output_dir, exist_ok=True)\n",
    "\n",
    "preprocessed_data= output_dir + input_csv + '_staypoints.csv'\n",
    "#daily_vehicle_csv= output_dir + input_csv + '_dailyvehicle.csv'\n",
    "\n",
    "threshold_in_sec = 1800 # remove entries with stay_time < 1800 seconds\n",
    "\n",
    "df = read_input_data( input_csv )\n",
    "trip_df = prepare_trip_summary(df)\n",
    "df_staypoints = merge_consecutive_trips_in_single_day(trip_df, threshold_in_sec)\n",
    "#print(len(trip_df), len(df_final))"
   ]
  },
  {
   "cell_type": "markdown",
   "metadata": {},
   "source": [
    "## Count and save daily unique vehicles"
   ]
  },
  {
   "cell_type": "code",
   "execution_count": null,
   "metadata": {},
   "outputs": [],
   "source": [
    "df_daily_unique_ap = df_staypoints[['date','ap_id']]\n",
    "df_daily_unique_ap = df_daily_unique_ap.drop_duplicates(['date','ap_id'])\n",
    "df_daily=df_daily_unique_ap[['date','ap_id']].groupby('date').agg(['count']).reset_index()\n",
    "#df_daily.to_csv(daily_vehicle_csv ,  index = False)"
   ]
  },
  {
   "cell_type": "code",
   "execution_count": null,
   "metadata": {},
   "outputs": [],
   "source": [
    "df.head()"
   ]
  },
  {
   "cell_type": "code",
   "execution_count": null,
   "metadata": {},
   "outputs": [],
   "source": [
    "df_staypoints.head()"
   ]
  },
  {
   "cell_type": "markdown",
   "metadata": {},
   "source": [
    "## separate timestamp fileds into smaller units like months and day"
   ]
  },
  {
   "cell_type": "code",
   "execution_count": null,
   "metadata": {},
   "outputs": [],
   "source": [
    "df_staypoints['date'] = pd.to_datetime(df_staypoints['date'])\n",
    "df_staypoints['year']  = df_staypoints['date'].dt.year\n",
    "df_staypoints['month'] = df_staypoints['date'].dt.month\n",
    "df_staypoints['day']   = df_staypoints['date'].dt.dayofweek # Monday= 0, Tuesday=1 .... Sunday=6\n",
    "#df_staypoints['day_num']  = df_staypoints['date'].dt.day \n",
    "#df_staypoints['date']  = df_staypoints['ts_car_start'].dt.date\n",
    "df_staypoints.head()"
   ]
  },
  {
   "cell_type": "markdown",
   "metadata": {},
   "source": [
    "## How many months and days"
   ]
  },
  {
   "cell_type": "code",
   "execution_count": null,
   "metadata": {},
   "outputs": [],
   "source": [
    "df_staypoints.month.unique(), df_staypoints.day.unique()"
   ]
  },
  {
   "cell_type": "markdown",
   "metadata": {},
   "source": [
    "## total data points in SELECTED region"
   ]
  },
  {
   "cell_type": "code",
   "execution_count": null,
   "metadata": {},
   "outputs": [],
   "source": [
    "len(df_staypoints)"
   ]
  },
  {
   "cell_type": "markdown",
   "metadata": {},
   "source": [
    "## how many cars"
   ]
  },
  {
   "cell_type": "code",
   "execution_count": null,
   "metadata": {},
   "outputs": [],
   "source": [
    "len(df_staypoints.ap_id.unique())"
   ]
  },
  {
   "cell_type": "markdown",
   "metadata": {},
   "source": [
    "## number of cars by months"
   ]
  },
  {
   "cell_type": "code",
   "execution_count": null,
   "metadata": {},
   "outputs": [],
   "source": [
    "#df.groupby(['month']).agg(['mean', 'count'])\n",
    "df_staypoints[['ap_id','month']].groupby(['month']).agg(['count'])"
   ]
  },
  {
   "cell_type": "markdown",
   "metadata": {},
   "source": [
    "## number of cars by day"
   ]
  },
  {
   "cell_type": "code",
   "execution_count": null,
   "metadata": {},
   "outputs": [],
   "source": [
    "df_staypoints[['ap_id','month','day']].groupby(['day']).agg(['count'])"
   ]
  },
  {
   "cell_type": "markdown",
   "metadata": {},
   "source": [
    "## How many total in each week day"
   ]
  },
  {
   "cell_type": "code",
   "execution_count": null,
   "metadata": {},
   "outputs": [],
   "source": [
    "df_staypoints.groupby('day').count()"
   ]
  },
  {
   "cell_type": "markdown",
   "metadata": {},
   "source": [
    "## Prepare data formats and save in csv"
   ]
  },
  {
   "cell_type": "code",
   "execution_count": null,
   "metadata": {},
   "outputs": [],
   "source": [
    "df_preprocessed = df_staypoints[['ap_id','date', 'month', 'day']].groupby(['date', 'month', 'day']).count()\n",
    "df_preprocessed.rename(columns = { 'ap_id' :'car_count'}, inplace = True)\n",
    "# 'date', 'month', 'day' becomes index -> convert them to normal column\n",
    "df_preprocessed.reset_index(inplace=True)\n",
    "df_preprocessed.head()"
   ]
  },
  {
   "cell_type": "code",
   "execution_count": null,
   "metadata": {},
   "outputs": [],
   "source": [
    "len(df_preprocessed)"
   ]
  },
  {
   "cell_type": "code",
   "execution_count": null,
   "metadata": {},
   "outputs": [],
   "source": [
    "df_preprocessed.to_csv(preprocessed_data,index=False)"
   ]
  }
 ],
 "metadata": {
  "kernelspec": {
   "display_name": "Python 3",
   "language": "python",
   "name": "python3"
  },
  "language_info": {
   "codemirror_mode": {
    "name": "ipython",
    "version": 3
   },
   "file_extension": ".py",
   "mimetype": "text/x-python",
   "name": "python",
   "nbconvert_exporter": "python",
   "pygments_lexer": "ipython3",
   "version": "3.8.3"
  }
 },
 "nbformat": 4,
 "nbformat_minor": 4
}
