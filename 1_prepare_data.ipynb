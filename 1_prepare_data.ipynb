{
 "cells": [
  {
   "cell_type": "markdown",
   "metadata": {},
   "source": [
    "# Preprocess raw data for selected spot (E.g. Gyoku Sendo)"
   ]
  },
  {
   "cell_type": "markdown",
   "metadata": {},
   "source": [
    "1. Three months parkingbreak data is saved in *data/* dir:\n",
    "    - gzip -dc /mnt/lv/heromiya/OkinawaVisitorPred/2018-12_2019-04_2019-08.csv.gz | awk 'BEGIN{FS=\",\"}$18==1{print}' > data/parkingbreak1-3month.csv\n",
    "\n",
    "\n",
    "2.  Subset the point data around the tourism spot 'Gukyo Sendo' and save as *data/sendoRegion_3months.csv*. The selected region of Gukyo Sendo is around 127.748361,26.139007 (Exampel Extent: 127.74563156,26.13900734,127.75200790,26.14219240)\n",
    "    - FIgure below shows the *extent of selected data*.\n",
    "    ![GyokuSendo.png](data/GyokuSendo.png)"
   ]
  },
  {
   "cell_type": "markdown",
   "metadata": {},
   "source": [
    "### Read and preprocess *2019-04_2019-08_GyokuSendo.csv*\n",
    "- The field names'serial' and 'tlm_datage' are renamed as 'ap_id' and 'timestamp'"
   ]
  },
  {
   "cell_type": "code",
   "execution_count": 1,
   "metadata": {},
   "outputs": [],
   "source": [
    "import pandas as pd\n",
    "from functions import read_input_data, prepare_trip_summary, merge_consecutive_trips_in_single_day"
   ]
  },
  {
   "cell_type": "code",
   "execution_count": 2,
   "metadata": {},
   "outputs": [],
   "source": [
    "threshold_in_sec = 1800 # # remove entries with stay_time < 1800 seconds\n",
    "input_csv='/mnt/lv/bidur/OkinawaVisitorPred/data/2019-04_2019-08_GyokuSendo.csv'\n",
    "preprocessed_data='/mnt/lv/bidur/OkinawaVisitorPred/data/2019-04_2019-08_GyokuSendo_staypoints.csv'\n",
    "df = read_input_data( input_csv )\n",
    "trip_df = prepare_trip_summary(df)\n",
    "df_staypoints = merge_consecutive_trips_in_single_day(trip_df, threshold_in_sec)\n",
    "#print(len(trip_df), len(df_final))"
   ]
  },
  {
   "cell_type": "code",
   "execution_count": 3,
   "metadata": {},
   "outputs": [
    {
     "data": {
      "text/html": [
       "<div>\n",
       "<style scoped>\n",
       "    .dataframe tbody tr th:only-of-type {\n",
       "        vertical-align: middle;\n",
       "    }\n",
       "\n",
       "    .dataframe tbody tr th {\n",
       "        vertical-align: top;\n",
       "    }\n",
       "\n",
       "    .dataframe thead th {\n",
       "        text-align: right;\n",
       "    }\n",
       "</style>\n",
       "<table border=\"1\" class=\"dataframe\">\n",
       "  <thead>\n",
       "    <tr style=\"text-align: right;\">\n",
       "      <th></th>\n",
       "      <th>ap_id</th>\n",
       "      <th>date</th>\n",
       "      <th>trip_count_prevs</th>\n",
       "      <th>trip_count</th>\n",
       "      <th>ts_prevs_stop</th>\n",
       "      <th>ts_start</th>\n",
       "      <th>stay_time</th>\n",
       "      <th>lon</th>\n",
       "      <th>lat</th>\n",
       "    </tr>\n",
       "  </thead>\n",
       "  <tbody>\n",
       "    <tr>\n",
       "      <th>0</th>\n",
       "      <td>AP521745</td>\n",
       "      <td>2019-04-01</td>\n",
       "      <td>2080.0</td>\n",
       "      <td>2081.0</td>\n",
       "      <td>2019-04-01 08:49:43</td>\n",
       "      <td>2019-04-01 11:14:20</td>\n",
       "      <td>8677.0</td>\n",
       "      <td>127.748598</td>\n",
       "      <td>26.141213</td>\n",
       "    </tr>\n",
       "    <tr>\n",
       "      <th>1</th>\n",
       "      <td>AP521745</td>\n",
       "      <td>2019-04-04</td>\n",
       "      <td>2101.0</td>\n",
       "      <td>2102.0</td>\n",
       "      <td>2019-04-04 12:15:45</td>\n",
       "      <td>2019-04-04 18:05:37</td>\n",
       "      <td>20992.0</td>\n",
       "      <td>127.747382</td>\n",
       "      <td>26.141103</td>\n",
       "    </tr>\n",
       "    <tr>\n",
       "      <th>2</th>\n",
       "      <td>AP521745</td>\n",
       "      <td>2019-04-08</td>\n",
       "      <td>2123.0</td>\n",
       "      <td>2124.0</td>\n",
       "      <td>2019-04-08 11:23:41</td>\n",
       "      <td>2019-04-08 13:51:25</td>\n",
       "      <td>8864.0</td>\n",
       "      <td>127.749557</td>\n",
       "      <td>26.141103</td>\n",
       "    </tr>\n",
       "    <tr>\n",
       "      <th>3</th>\n",
       "      <td>AP521745</td>\n",
       "      <td>2019-04-13</td>\n",
       "      <td>2152.0</td>\n",
       "      <td>2153.0</td>\n",
       "      <td>2019-04-13 10:59:40</td>\n",
       "      <td>2019-04-13 12:58:27</td>\n",
       "      <td>7127.0</td>\n",
       "      <td>127.750141</td>\n",
       "      <td>26.140792</td>\n",
       "    </tr>\n",
       "    <tr>\n",
       "      <th>4</th>\n",
       "      <td>AP521745</td>\n",
       "      <td>2019-04-25</td>\n",
       "      <td>2269.0</td>\n",
       "      <td>2270.0</td>\n",
       "      <td>2019-04-25 10:32:25</td>\n",
       "      <td>2019-04-25 14:24:14</td>\n",
       "      <td>13909.0</td>\n",
       "      <td>127.748954</td>\n",
       "      <td>26.141355</td>\n",
       "    </tr>\n",
       "  </tbody>\n",
       "</table>\n",
       "</div>"
      ],
      "text/plain": [
       "      ap_id        date  trip_count_prevs  trip_count       ts_prevs_stop  \\\n",
       "0  AP521745  2019-04-01            2080.0      2081.0 2019-04-01 08:49:43   \n",
       "1  AP521745  2019-04-04            2101.0      2102.0 2019-04-04 12:15:45   \n",
       "2  AP521745  2019-04-08            2123.0      2124.0 2019-04-08 11:23:41   \n",
       "3  AP521745  2019-04-13            2152.0      2153.0 2019-04-13 10:59:40   \n",
       "4  AP521745  2019-04-25            2269.0      2270.0 2019-04-25 10:32:25   \n",
       "\n",
       "             ts_start  stay_time         lon        lat  \n",
       "0 2019-04-01 11:14:20     8677.0  127.748598  26.141213  \n",
       "1 2019-04-04 18:05:37    20992.0  127.747382  26.141103  \n",
       "2 2019-04-08 13:51:25     8864.0  127.749557  26.141103  \n",
       "3 2019-04-13 12:58:27     7127.0  127.750141  26.140792  \n",
       "4 2019-04-25 14:24:14    13909.0  127.748954  26.141355  "
      ]
     },
     "execution_count": 3,
     "metadata": {},
     "output_type": "execute_result"
    }
   ],
   "source": [
    "df_staypoints.head()"
   ]
  },
  {
   "cell_type": "code",
   "execution_count": null,
   "metadata": {},
   "outputs": [],
   "source": []
  },
  {
   "cell_type": "markdown",
   "metadata": {},
   "source": [
    "### separate timestamp fileds into smaller units like months and day"
   ]
  },
  {
   "cell_type": "code",
   "execution_count": 4,
   "metadata": {},
   "outputs": [
    {
     "data": {
      "text/html": [
       "<div>\n",
       "<style scoped>\n",
       "    .dataframe tbody tr th:only-of-type {\n",
       "        vertical-align: middle;\n",
       "    }\n",
       "\n",
       "    .dataframe tbody tr th {\n",
       "        vertical-align: top;\n",
       "    }\n",
       "\n",
       "    .dataframe thead th {\n",
       "        text-align: right;\n",
       "    }\n",
       "</style>\n",
       "<table border=\"1\" class=\"dataframe\">\n",
       "  <thead>\n",
       "    <tr style=\"text-align: right;\">\n",
       "      <th></th>\n",
       "      <th>ap_id</th>\n",
       "      <th>date</th>\n",
       "      <th>trip_count_prevs</th>\n",
       "      <th>trip_count</th>\n",
       "      <th>ts_prevs_stop</th>\n",
       "      <th>ts_start</th>\n",
       "      <th>stay_time</th>\n",
       "      <th>lon</th>\n",
       "      <th>lat</th>\n",
       "      <th>year</th>\n",
       "      <th>month</th>\n",
       "      <th>day</th>\n",
       "    </tr>\n",
       "  </thead>\n",
       "  <tbody>\n",
       "    <tr>\n",
       "      <th>0</th>\n",
       "      <td>AP521745</td>\n",
       "      <td>2019-04-01</td>\n",
       "      <td>2080.0</td>\n",
       "      <td>2081.0</td>\n",
       "      <td>2019-04-01 08:49:43</td>\n",
       "      <td>2019-04-01 11:14:20</td>\n",
       "      <td>8677.0</td>\n",
       "      <td>127.748598</td>\n",
       "      <td>26.141213</td>\n",
       "      <td>2019</td>\n",
       "      <td>4</td>\n",
       "      <td>0</td>\n",
       "    </tr>\n",
       "    <tr>\n",
       "      <th>1</th>\n",
       "      <td>AP521745</td>\n",
       "      <td>2019-04-04</td>\n",
       "      <td>2101.0</td>\n",
       "      <td>2102.0</td>\n",
       "      <td>2019-04-04 12:15:45</td>\n",
       "      <td>2019-04-04 18:05:37</td>\n",
       "      <td>20992.0</td>\n",
       "      <td>127.747382</td>\n",
       "      <td>26.141103</td>\n",
       "      <td>2019</td>\n",
       "      <td>4</td>\n",
       "      <td>3</td>\n",
       "    </tr>\n",
       "    <tr>\n",
       "      <th>2</th>\n",
       "      <td>AP521745</td>\n",
       "      <td>2019-04-08</td>\n",
       "      <td>2123.0</td>\n",
       "      <td>2124.0</td>\n",
       "      <td>2019-04-08 11:23:41</td>\n",
       "      <td>2019-04-08 13:51:25</td>\n",
       "      <td>8864.0</td>\n",
       "      <td>127.749557</td>\n",
       "      <td>26.141103</td>\n",
       "      <td>2019</td>\n",
       "      <td>4</td>\n",
       "      <td>0</td>\n",
       "    </tr>\n",
       "    <tr>\n",
       "      <th>3</th>\n",
       "      <td>AP521745</td>\n",
       "      <td>2019-04-13</td>\n",
       "      <td>2152.0</td>\n",
       "      <td>2153.0</td>\n",
       "      <td>2019-04-13 10:59:40</td>\n",
       "      <td>2019-04-13 12:58:27</td>\n",
       "      <td>7127.0</td>\n",
       "      <td>127.750141</td>\n",
       "      <td>26.140792</td>\n",
       "      <td>2019</td>\n",
       "      <td>4</td>\n",
       "      <td>5</td>\n",
       "    </tr>\n",
       "    <tr>\n",
       "      <th>4</th>\n",
       "      <td>AP521745</td>\n",
       "      <td>2019-04-25</td>\n",
       "      <td>2269.0</td>\n",
       "      <td>2270.0</td>\n",
       "      <td>2019-04-25 10:32:25</td>\n",
       "      <td>2019-04-25 14:24:14</td>\n",
       "      <td>13909.0</td>\n",
       "      <td>127.748954</td>\n",
       "      <td>26.141355</td>\n",
       "      <td>2019</td>\n",
       "      <td>4</td>\n",
       "      <td>3</td>\n",
       "    </tr>\n",
       "  </tbody>\n",
       "</table>\n",
       "</div>"
      ],
      "text/plain": [
       "      ap_id       date  trip_count_prevs  trip_count       ts_prevs_stop  \\\n",
       "0  AP521745 2019-04-01            2080.0      2081.0 2019-04-01 08:49:43   \n",
       "1  AP521745 2019-04-04            2101.0      2102.0 2019-04-04 12:15:45   \n",
       "2  AP521745 2019-04-08            2123.0      2124.0 2019-04-08 11:23:41   \n",
       "3  AP521745 2019-04-13            2152.0      2153.0 2019-04-13 10:59:40   \n",
       "4  AP521745 2019-04-25            2269.0      2270.0 2019-04-25 10:32:25   \n",
       "\n",
       "             ts_start  stay_time         lon        lat  year  month  day  \n",
       "0 2019-04-01 11:14:20     8677.0  127.748598  26.141213  2019      4    0  \n",
       "1 2019-04-04 18:05:37    20992.0  127.747382  26.141103  2019      4    3  \n",
       "2 2019-04-08 13:51:25     8864.0  127.749557  26.141103  2019      4    0  \n",
       "3 2019-04-13 12:58:27     7127.0  127.750141  26.140792  2019      4    5  \n",
       "4 2019-04-25 14:24:14    13909.0  127.748954  26.141355  2019      4    3  "
      ]
     },
     "execution_count": 4,
     "metadata": {},
     "output_type": "execute_result"
    }
   ],
   "source": [
    "df_staypoints['date'] = pd.to_datetime(df_staypoints['date'])\n",
    "df_staypoints['year']  = df_staypoints['date'].dt.year\n",
    "df_staypoints['month'] = df_staypoints['date'].dt.month\n",
    "df_staypoints['day']   = df_staypoints['date'].dt.dayofweek # Monday= 0, Tuesday=1 .... Sunday=6\n",
    "#df_staypoints['day_num']  = df_staypoints['date'].dt.day \n",
    "#df_staypoints['date']  = df_staypoints['ts_car_start'].dt.date\n",
    "df_staypoints.head()"
   ]
  },
  {
   "cell_type": "markdown",
   "metadata": {},
   "source": [
    "#### How many months and days"
   ]
  },
  {
   "cell_type": "code",
   "execution_count": 5,
   "metadata": {},
   "outputs": [
    {
     "data": {
      "text/plain": [
       "(array([4, 8]), array([0, 3, 5, 4, 2, 6, 1]))"
      ]
     },
     "execution_count": 5,
     "metadata": {},
     "output_type": "execute_result"
    }
   ],
   "source": [
    "df_staypoints.month.unique(), df_staypoints.day.unique()"
   ]
  },
  {
   "cell_type": "markdown",
   "metadata": {},
   "source": [
    "### total data points in GyokuSendo region"
   ]
  },
  {
   "cell_type": "code",
   "execution_count": 6,
   "metadata": {},
   "outputs": [
    {
     "data": {
      "text/plain": [
       "4847"
      ]
     },
     "execution_count": 6,
     "metadata": {},
     "output_type": "execute_result"
    }
   ],
   "source": [
    "len(df_staypoints)"
   ]
  },
  {
   "cell_type": "markdown",
   "metadata": {},
   "source": [
    "### how many cars"
   ]
  },
  {
   "cell_type": "code",
   "execution_count": 7,
   "metadata": {},
   "outputs": [
    {
     "data": {
      "text/plain": [
       "1488"
      ]
     },
     "execution_count": 7,
     "metadata": {},
     "output_type": "execute_result"
    }
   ],
   "source": [
    "len(df_staypoints.ap_id.unique())"
   ]
  },
  {
   "cell_type": "markdown",
   "metadata": {},
   "source": [
    "### number of cars by months"
   ]
  },
  {
   "cell_type": "code",
   "execution_count": 8,
   "metadata": {},
   "outputs": [
    {
     "data": {
      "text/html": [
       "<div>\n",
       "<style scoped>\n",
       "    .dataframe tbody tr th:only-of-type {\n",
       "        vertical-align: middle;\n",
       "    }\n",
       "\n",
       "    .dataframe tbody tr th {\n",
       "        vertical-align: top;\n",
       "    }\n",
       "\n",
       "    .dataframe thead tr th {\n",
       "        text-align: left;\n",
       "    }\n",
       "\n",
       "    .dataframe thead tr:last-of-type th {\n",
       "        text-align: right;\n",
       "    }\n",
       "</style>\n",
       "<table border=\"1\" class=\"dataframe\">\n",
       "  <thead>\n",
       "    <tr>\n",
       "      <th></th>\n",
       "      <th>ap_id</th>\n",
       "    </tr>\n",
       "    <tr>\n",
       "      <th></th>\n",
       "      <th>count</th>\n",
       "    </tr>\n",
       "    <tr>\n",
       "      <th>month</th>\n",
       "      <th></th>\n",
       "    </tr>\n",
       "  </thead>\n",
       "  <tbody>\n",
       "    <tr>\n",
       "      <th>4</th>\n",
       "      <td>2289</td>\n",
       "    </tr>\n",
       "    <tr>\n",
       "      <th>8</th>\n",
       "      <td>2558</td>\n",
       "    </tr>\n",
       "  </tbody>\n",
       "</table>\n",
       "</div>"
      ],
      "text/plain": [
       "      ap_id\n",
       "      count\n",
       "month      \n",
       "4      2289\n",
       "8      2558"
      ]
     },
     "execution_count": 8,
     "metadata": {},
     "output_type": "execute_result"
    }
   ],
   "source": [
    "#df.groupby(['month']).agg(['mean', 'count'])\n",
    "df_staypoints[['ap_id','month']].groupby(['month']).agg(['count'])"
   ]
  },
  {
   "cell_type": "markdown",
   "metadata": {},
   "source": [
    "### number of cars by day"
   ]
  },
  {
   "cell_type": "code",
   "execution_count": 9,
   "metadata": {},
   "outputs": [
    {
     "data": {
      "text/html": [
       "<div>\n",
       "<style scoped>\n",
       "    .dataframe tbody tr th:only-of-type {\n",
       "        vertical-align: middle;\n",
       "    }\n",
       "\n",
       "    .dataframe tbody tr th {\n",
       "        vertical-align: top;\n",
       "    }\n",
       "\n",
       "    .dataframe thead tr th {\n",
       "        text-align: left;\n",
       "    }\n",
       "\n",
       "    .dataframe thead tr:last-of-type th {\n",
       "        text-align: right;\n",
       "    }\n",
       "</style>\n",
       "<table border=\"1\" class=\"dataframe\">\n",
       "  <thead>\n",
       "    <tr>\n",
       "      <th></th>\n",
       "      <th>ap_id</th>\n",
       "      <th>month</th>\n",
       "    </tr>\n",
       "    <tr>\n",
       "      <th></th>\n",
       "      <th>count</th>\n",
       "      <th>count</th>\n",
       "    </tr>\n",
       "    <tr>\n",
       "      <th>day</th>\n",
       "      <th></th>\n",
       "      <th></th>\n",
       "    </tr>\n",
       "  </thead>\n",
       "  <tbody>\n",
       "    <tr>\n",
       "      <th>0</th>\n",
       "      <td>706</td>\n",
       "      <td>706</td>\n",
       "    </tr>\n",
       "    <tr>\n",
       "      <th>1</th>\n",
       "      <td>706</td>\n",
       "      <td>706</td>\n",
       "    </tr>\n",
       "    <tr>\n",
       "      <th>2</th>\n",
       "      <td>680</td>\n",
       "      <td>680</td>\n",
       "    </tr>\n",
       "    <tr>\n",
       "      <th>3</th>\n",
       "      <td>784</td>\n",
       "      <td>784</td>\n",
       "    </tr>\n",
       "    <tr>\n",
       "      <th>4</th>\n",
       "      <td>648</td>\n",
       "      <td>648</td>\n",
       "    </tr>\n",
       "    <tr>\n",
       "      <th>5</th>\n",
       "      <td>682</td>\n",
       "      <td>682</td>\n",
       "    </tr>\n",
       "    <tr>\n",
       "      <th>6</th>\n",
       "      <td>641</td>\n",
       "      <td>641</td>\n",
       "    </tr>\n",
       "  </tbody>\n",
       "</table>\n",
       "</div>"
      ],
      "text/plain": [
       "    ap_id month\n",
       "    count count\n",
       "day            \n",
       "0     706   706\n",
       "1     706   706\n",
       "2     680   680\n",
       "3     784   784\n",
       "4     648   648\n",
       "5     682   682\n",
       "6     641   641"
      ]
     },
     "execution_count": 9,
     "metadata": {},
     "output_type": "execute_result"
    }
   ],
   "source": [
    "df_staypoints[['ap_id','month','day']].groupby(['day']).agg(['count'])"
   ]
  },
  {
   "cell_type": "markdown",
   "metadata": {},
   "source": [
    "### How many total in each week day"
   ]
  },
  {
   "cell_type": "code",
   "execution_count": 10,
   "metadata": {},
   "outputs": [
    {
     "data": {
      "text/html": [
       "<div>\n",
       "<style scoped>\n",
       "    .dataframe tbody tr th:only-of-type {\n",
       "        vertical-align: middle;\n",
       "    }\n",
       "\n",
       "    .dataframe tbody tr th {\n",
       "        vertical-align: top;\n",
       "    }\n",
       "\n",
       "    .dataframe thead th {\n",
       "        text-align: right;\n",
       "    }\n",
       "</style>\n",
       "<table border=\"1\" class=\"dataframe\">\n",
       "  <thead>\n",
       "    <tr style=\"text-align: right;\">\n",
       "      <th></th>\n",
       "      <th>ap_id</th>\n",
       "      <th>date</th>\n",
       "      <th>trip_count_prevs</th>\n",
       "      <th>trip_count</th>\n",
       "      <th>ts_prevs_stop</th>\n",
       "      <th>ts_start</th>\n",
       "      <th>stay_time</th>\n",
       "      <th>lon</th>\n",
       "      <th>lat</th>\n",
       "      <th>year</th>\n",
       "      <th>month</th>\n",
       "    </tr>\n",
       "    <tr>\n",
       "      <th>day</th>\n",
       "      <th></th>\n",
       "      <th></th>\n",
       "      <th></th>\n",
       "      <th></th>\n",
       "      <th></th>\n",
       "      <th></th>\n",
       "      <th></th>\n",
       "      <th></th>\n",
       "      <th></th>\n",
       "      <th></th>\n",
       "      <th></th>\n",
       "    </tr>\n",
       "  </thead>\n",
       "  <tbody>\n",
       "    <tr>\n",
       "      <th>0</th>\n",
       "      <td>706</td>\n",
       "      <td>706</td>\n",
       "      <td>706</td>\n",
       "      <td>706</td>\n",
       "      <td>706</td>\n",
       "      <td>706</td>\n",
       "      <td>706</td>\n",
       "      <td>706</td>\n",
       "      <td>706</td>\n",
       "      <td>706</td>\n",
       "      <td>706</td>\n",
       "    </tr>\n",
       "    <tr>\n",
       "      <th>1</th>\n",
       "      <td>706</td>\n",
       "      <td>706</td>\n",
       "      <td>706</td>\n",
       "      <td>706</td>\n",
       "      <td>706</td>\n",
       "      <td>706</td>\n",
       "      <td>706</td>\n",
       "      <td>706</td>\n",
       "      <td>706</td>\n",
       "      <td>706</td>\n",
       "      <td>706</td>\n",
       "    </tr>\n",
       "    <tr>\n",
       "      <th>2</th>\n",
       "      <td>680</td>\n",
       "      <td>680</td>\n",
       "      <td>680</td>\n",
       "      <td>680</td>\n",
       "      <td>680</td>\n",
       "      <td>680</td>\n",
       "      <td>680</td>\n",
       "      <td>680</td>\n",
       "      <td>680</td>\n",
       "      <td>680</td>\n",
       "      <td>680</td>\n",
       "    </tr>\n",
       "    <tr>\n",
       "      <th>3</th>\n",
       "      <td>784</td>\n",
       "      <td>784</td>\n",
       "      <td>784</td>\n",
       "      <td>784</td>\n",
       "      <td>784</td>\n",
       "      <td>784</td>\n",
       "      <td>784</td>\n",
       "      <td>784</td>\n",
       "      <td>784</td>\n",
       "      <td>784</td>\n",
       "      <td>784</td>\n",
       "    </tr>\n",
       "    <tr>\n",
       "      <th>4</th>\n",
       "      <td>648</td>\n",
       "      <td>648</td>\n",
       "      <td>648</td>\n",
       "      <td>648</td>\n",
       "      <td>648</td>\n",
       "      <td>648</td>\n",
       "      <td>648</td>\n",
       "      <td>648</td>\n",
       "      <td>648</td>\n",
       "      <td>648</td>\n",
       "      <td>648</td>\n",
       "    </tr>\n",
       "    <tr>\n",
       "      <th>5</th>\n",
       "      <td>682</td>\n",
       "      <td>682</td>\n",
       "      <td>682</td>\n",
       "      <td>682</td>\n",
       "      <td>682</td>\n",
       "      <td>682</td>\n",
       "      <td>682</td>\n",
       "      <td>682</td>\n",
       "      <td>682</td>\n",
       "      <td>682</td>\n",
       "      <td>682</td>\n",
       "    </tr>\n",
       "    <tr>\n",
       "      <th>6</th>\n",
       "      <td>641</td>\n",
       "      <td>641</td>\n",
       "      <td>641</td>\n",
       "      <td>641</td>\n",
       "      <td>641</td>\n",
       "      <td>641</td>\n",
       "      <td>641</td>\n",
       "      <td>641</td>\n",
       "      <td>641</td>\n",
       "      <td>641</td>\n",
       "      <td>641</td>\n",
       "    </tr>\n",
       "  </tbody>\n",
       "</table>\n",
       "</div>"
      ],
      "text/plain": [
       "     ap_id  date  trip_count_prevs  trip_count  ts_prevs_stop  ts_start  \\\n",
       "day                                                                       \n",
       "0      706   706               706         706            706       706   \n",
       "1      706   706               706         706            706       706   \n",
       "2      680   680               680         680            680       680   \n",
       "3      784   784               784         784            784       784   \n",
       "4      648   648               648         648            648       648   \n",
       "5      682   682               682         682            682       682   \n",
       "6      641   641               641         641            641       641   \n",
       "\n",
       "     stay_time  lon  lat  year  month  \n",
       "day                                    \n",
       "0          706  706  706   706    706  \n",
       "1          706  706  706   706    706  \n",
       "2          680  680  680   680    680  \n",
       "3          784  784  784   784    784  \n",
       "4          648  648  648   648    648  \n",
       "5          682  682  682   682    682  \n",
       "6          641  641  641   641    641  "
      ]
     },
     "execution_count": 10,
     "metadata": {},
     "output_type": "execute_result"
    }
   ],
   "source": [
    "df_staypoints.groupby('day').count()"
   ]
  },
  {
   "cell_type": "markdown",
   "metadata": {},
   "source": [
    "### Prepare desired data and save in csv"
   ]
  },
  {
   "cell_type": "code",
   "execution_count": 11,
   "metadata": {},
   "outputs": [
    {
     "data": {
      "text/html": [
       "<div>\n",
       "<style scoped>\n",
       "    .dataframe tbody tr th:only-of-type {\n",
       "        vertical-align: middle;\n",
       "    }\n",
       "\n",
       "    .dataframe tbody tr th {\n",
       "        vertical-align: top;\n",
       "    }\n",
       "\n",
       "    .dataframe thead th {\n",
       "        text-align: right;\n",
       "    }\n",
       "</style>\n",
       "<table border=\"1\" class=\"dataframe\">\n",
       "  <thead>\n",
       "    <tr style=\"text-align: right;\">\n",
       "      <th></th>\n",
       "      <th>date</th>\n",
       "      <th>month</th>\n",
       "      <th>day</th>\n",
       "      <th>car_count</th>\n",
       "    </tr>\n",
       "  </thead>\n",
       "  <tbody>\n",
       "    <tr>\n",
       "      <th>0</th>\n",
       "      <td>2019-04-01</td>\n",
       "      <td>4</td>\n",
       "      <td>0</td>\n",
       "      <td>72</td>\n",
       "    </tr>\n",
       "    <tr>\n",
       "      <th>1</th>\n",
       "      <td>2019-04-02</td>\n",
       "      <td>4</td>\n",
       "      <td>1</td>\n",
       "      <td>66</td>\n",
       "    </tr>\n",
       "    <tr>\n",
       "      <th>2</th>\n",
       "      <td>2019-04-03</td>\n",
       "      <td>4</td>\n",
       "      <td>2</td>\n",
       "      <td>103</td>\n",
       "    </tr>\n",
       "    <tr>\n",
       "      <th>3</th>\n",
       "      <td>2019-04-04</td>\n",
       "      <td>4</td>\n",
       "      <td>3</td>\n",
       "      <td>89</td>\n",
       "    </tr>\n",
       "    <tr>\n",
       "      <th>4</th>\n",
       "      <td>2019-04-05</td>\n",
       "      <td>4</td>\n",
       "      <td>4</td>\n",
       "      <td>58</td>\n",
       "    </tr>\n",
       "  </tbody>\n",
       "</table>\n",
       "</div>"
      ],
      "text/plain": [
       "        date  month  day  car_count\n",
       "0 2019-04-01      4    0         72\n",
       "1 2019-04-02      4    1         66\n",
       "2 2019-04-03      4    2        103\n",
       "3 2019-04-04      4    3         89\n",
       "4 2019-04-05      4    4         58"
      ]
     },
     "execution_count": 11,
     "metadata": {},
     "output_type": "execute_result"
    }
   ],
   "source": [
    "df_preprocessed = df_staypoints[['ap_id','date', 'month', 'day']].groupby(['date', 'month', 'day']).count()\n",
    "df_preprocessed.rename(columns = { 'ap_id' :'car_count'}, inplace = True)\n",
    "# 'date', 'month', 'day' becomes index -> convert them to normal column\n",
    "df_preprocessed.reset_index(inplace=True)\n",
    "df_preprocessed.head()"
   ]
  },
  {
   "cell_type": "code",
   "execution_count": 12,
   "metadata": {},
   "outputs": [
    {
     "data": {
      "text/plain": [
       "61"
      ]
     },
     "execution_count": 12,
     "metadata": {},
     "output_type": "execute_result"
    }
   ],
   "source": [
    "len(df_preprocessed)"
   ]
  },
  {
   "cell_type": "code",
   "execution_count": 13,
   "metadata": {},
   "outputs": [],
   "source": [
    "df_preprocessed.to_csv(preprocessed_data,index=False)"
   ]
  },
  {
   "cell_type": "code",
   "execution_count": 14,
   "metadata": {},
   "outputs": [
    {
     "data": {
      "text/html": [
       "<div>\n",
       "<style scoped>\n",
       "    .dataframe tbody tr th:only-of-type {\n",
       "        vertical-align: middle;\n",
       "    }\n",
       "\n",
       "    .dataframe tbody tr th {\n",
       "        vertical-align: top;\n",
       "    }\n",
       "\n",
       "    .dataframe thead th {\n",
       "        text-align: right;\n",
       "    }\n",
       "</style>\n",
       "<table border=\"1\" class=\"dataframe\">\n",
       "  <thead>\n",
       "    <tr style=\"text-align: right;\">\n",
       "      <th></th>\n",
       "      <th>date</th>\n",
       "      <th>month</th>\n",
       "      <th>day</th>\n",
       "      <th>car_count</th>\n",
       "    </tr>\n",
       "  </thead>\n",
       "  <tbody>\n",
       "    <tr>\n",
       "      <th>0</th>\n",
       "      <td>2019-04-01</td>\n",
       "      <td>4</td>\n",
       "      <td>0</td>\n",
       "      <td>72</td>\n",
       "    </tr>\n",
       "    <tr>\n",
       "      <th>1</th>\n",
       "      <td>2019-04-02</td>\n",
       "      <td>4</td>\n",
       "      <td>1</td>\n",
       "      <td>66</td>\n",
       "    </tr>\n",
       "    <tr>\n",
       "      <th>2</th>\n",
       "      <td>2019-04-03</td>\n",
       "      <td>4</td>\n",
       "      <td>2</td>\n",
       "      <td>103</td>\n",
       "    </tr>\n",
       "    <tr>\n",
       "      <th>3</th>\n",
       "      <td>2019-04-04</td>\n",
       "      <td>4</td>\n",
       "      <td>3</td>\n",
       "      <td>89</td>\n",
       "    </tr>\n",
       "    <tr>\n",
       "      <th>4</th>\n",
       "      <td>2019-04-05</td>\n",
       "      <td>4</td>\n",
       "      <td>4</td>\n",
       "      <td>58</td>\n",
       "    </tr>\n",
       "  </tbody>\n",
       "</table>\n",
       "</div>"
      ],
      "text/plain": [
       "        date  month  day  car_count\n",
       "0 2019-04-01      4    0         72\n",
       "1 2019-04-02      4    1         66\n",
       "2 2019-04-03      4    2        103\n",
       "3 2019-04-04      4    3         89\n",
       "4 2019-04-05      4    4         58"
      ]
     },
     "execution_count": 14,
     "metadata": {},
     "output_type": "execute_result"
    }
   ],
   "source": [
    "df_preprocessed.head()"
   ]
  },
  {
   "cell_type": "code",
   "execution_count": null,
   "metadata": {},
   "outputs": [],
   "source": []
  }
 ],
 "metadata": {
  "kernelspec": {
   "display_name": "Python 3",
   "language": "python",
   "name": "python3"
  },
  "language_info": {
   "codemirror_mode": {
    "name": "ipython",
    "version": 3
   },
   "file_extension": ".py",
   "mimetype": "text/x-python",
   "name": "python",
   "nbconvert_exporter": "python",
   "pygments_lexer": "ipython3",
   "version": "3.6.9"
  }
 },
 "nbformat": 4,
 "nbformat_minor": 4
}
