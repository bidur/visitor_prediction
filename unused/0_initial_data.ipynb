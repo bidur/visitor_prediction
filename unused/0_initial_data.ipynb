{
 "cells": [
  {
   "cell_type": "markdown",
   "metadata": {},
   "source": [
    "# Load and Prepare data\n",
    "- consecutive trips ( represented by **tripcount** in input csv) within a day are assigned same trip_code ( else different trip_code)\n",
    "- trip_code is used for merging trips i.e. merge consecutive trips with same trip_code as a single output row \n",
    "- remove entries with stay_time < threshold_in_sec ( e.g. 1800 seconds i.e. 30 minutes)\n",
    "- Sample Input:\n",
    "    -  ./new_data/gpsdata_202001-03.csv\n",
    "- Sample Output:\n",
    "    - ./new_data/output/gpsdata_202001-03_staypoints.csv\n",
    "    - ./new_data/output/gpsdata_202001-03_dailyvehicle.csv\n"
   ]
  },
  {
   "cell_type": "code",
   "execution_count": 1,
   "metadata": {},
   "outputs": [
    {
     "data": {
      "text/plain": [
       "'\\nimport pandas as pd\\nfrom datetime import datetime\\n\\n#trip_code: consecutive trips within a day is assigned same trip_code ( else different trip code)\\n# It is used for merging trips i.e. merge consecutive tripcount as a single output row \\ndef assign_trip_code(df_single_ap):\\n    df_single_ap[\\'trip_code\\']=None\\n    df_single_ap = df_single_ap.reset_index(drop=True)\\n    date_old = 0\\n    trip_count_old = 0\\n    trip_code = 0\\n    \\n    for idx,row in df_single_ap.iterrows():\\n        #print(idx)\\n        cur_trip_count = df_single_ap.iloc[idx].trip_prevs\\n        cur_date = df_single_ap.iloc[idx].date\\n        #print(cur_trip_count, trip_count_old, trip_code)\\n        \\n        if (trip_count_old ) == cur_trip_count:\\n            df_single_ap.at[idx,\\'trip_code\\'] = str(trip_code)\\n        elif ( ( (trip_count_old +1 ) == cur_trip_count) ):\\n            if date_old == cur_date:\\n                df_single_ap.at[idx,\\'trip_code\\'] =  str(trip_code)            \\n            else:\\n                trip_code += 1\\n        else:\\n            trip_code += 1\\n            df_single_ap.at[idx,\\'trip_code\\'] =  str(trip_code)\\n\\n        trip_count_old = cur_trip_count\\n        date_old = cur_date\\n\\n    return df_single_ap \\n\\ndef read_input_data(csv_file):\\n    df = pd.read_csv(csv_file,usecols=[\\'serial\\',\\'tripid\\',\\'tripcount\\',\\'tlm_datagettime\\',\\'lat\\',\\'lon\\'])\\n    #df = pd.read_csv(csv_file)#,usecols=[\\'serial\\',\\'tripid\\',\\'tripcount\\',\\'tlm_datagettime\\',\\'lat\\',\\'lon\\'])\\n\\n    df.rename(columns = {\\'serial\\':\\'ap_id\\',\\'tlm_datagettime\\':\\'timestamp\\'}, inplace = True)\\n    df[\\'timestamp\\'] = pd.to_datetime(df[\\'timestamp\\'])\\n    df=df.sort_values(by=[\\'timestamp\\'])\\n    df[\\'date\\'] = pd.to_datetime(df[\\'timestamp\\']).dt.date\\n    return df\\n\\n\\ndef prepare_trip_summary(df):# summarize each trip\\n    \\n    arr_ap_ids = df.ap_id.unique()\\n\\n    arr_trip_summary = []\\n    for ap_id in arr_ap_ids:\\n        \\n        df_single_ap = df.query(\"ap_id==\\'\"+ap_id+\"\\'\").copy()\\n        df_single_ap = df_single_ap.sort_values(by=[\\'timestamp\\'])\\n        arr_trips = df_single_ap.tripcount.unique()\\n\\n        #trip_count = arr_trips[0]\\n        #trip_count\\n        ts_prevs = df_single_ap.timestamp.min()\\n        lat_prevs = df_single_ap.iloc[0].lat\\n        lon_prevs = df_single_ap.iloc[0].lon\\n\\n        trip_count_prevs = -9 #  small number (far below real trip_count value) for initialization purpose\\n        for trip_count in arr_trips:\\n\\n            # process consicutive trips only e.g. trip_count_prevs = 12 and  trip_count=13\\n            df_single_trip = df_single_ap.query(\"tripcount==\\'\"+str(trip_count)+\"\\'\").copy()\\n            df_single_trip = df_single_trip.sort_values(by=[\\'timestamp\\'])\\n            max_ts = df_single_trip.timestamp.max()\\n            min_ts= df_single_trip.timestamp.min()\\n\\n            stay_time =  min_ts - ts_prevs\\n            trip_time = (max_ts - min_ts).total_seconds()\\n\\n            lat_min = df_single_trip.iloc[0].lat\\n            lon_min = df_single_trip.iloc[0].lon\\n            lat_max = df_single_trip.iloc[len(df_single_trip)-1].lat \\n            lon_max = df_single_trip.iloc[len(df_single_trip)-1].lon\\n\\n            avg_lat = (lat_prevs + lat_min)/2\\n            avg_lon = (lon_prevs + lon_min)/2\\n\\n            lat_prevs = lat_max\\n            lon_prevs = lon_max\\n\\n            if ( trip_count_prevs  == trip_count-1):\\n                \\n              \\n                if min_ts.date() != ts_prevs.date():\\n                    trip_count_prevs = trip_count\\n                    ts_prevs = max_ts\\n                    #print (\\'SKIP: \\', min_ts,ts_prevs)                    \\n                    continue\\n                    \\n                #if ap_id==\\'AP520040\\':\\n                    #print ( \\'\\t\\' ,trip_count_prevs, trip_count,\\' -- \\', min_ts.date(), ts_prevs.date())\\n                    \\n                arr_trip_summary.append({\\n                    \\'ap_id\\': ap_id,\\n\\n                    \\'trip_prevs\\': trip_count_prevs,\\n                    \\'trip_count\\': trip_count,\\n                    \\'ts_prevs\\': ts_prevs,\\n                    \\'ts_min\\': min_ts,\\n                    \\'stay_time\\': stay_time.total_seconds(),\\n                    \\'avg_lon_with_prvs\\': avg_lon,\\n                    \\'avg_lat_with_prvs\\': avg_lat,\\n              \\n                    })\\n\\n            trip_count_prevs = trip_count\\n            ts_prevs = max_ts\\n\\n    trip_df =  pd.DataFrame(arr_trip_summary)      \\n    trip_df[\\'date\\'] = trip_df[\\'ts_min\\'].dt.date\\n\\n    return trip_df\\n\\n\\n# if multiple consecutive trips in a single day then merge them as single one\\ndef merge_consecutive_trips_in_single_day(trip_df, threshold_in_sec, final_csv):\\n    \\n    arr_ap_ids = trip_df.ap_id.unique()\\n    arr_trip_merged = []\\n    for ap_id in arr_ap_ids:\\n        df_single_ap = trip_df.query(\"ap_id==\\'\"+ap_id+\"\\'\").copy()\\n        \\n        df_single_ap = assign_trip_code(df_single_ap)\\n        #display(df_single_ap)\\n\\n        arr_trip_code = df_single_ap.trip_code.unique()\\n\\n        for trip_code in arr_trip_code:\\n            df_trip_code = df_single_ap.query(\"trip_code==\\'\"+str(trip_code)+\"\\'\")\\n\\n            arr_trip_merged.append( {\\n                        \\'ap_id\\': ap_id,\\n                        \\'date\\':df_trip_code.date.min(),\\n                        \\'trip_prevs\\': df_trip_code.trip_prevs.min(),\\n                        \\'trip_count\\': df_trip_code.trip_count.max(),\\n                        \\'ts_prevs_stop\\': df_trip_code.ts_prevs.min(),\\n                        \\'timestamp\\': df_trip_code.ts_min.max(), # timnestamp of car starting \\n                        \\'stay_time\\': df_trip_code.stay_time.sum(),\\n                        \\'lon\\': df_trip_code.avg_lon_with_prvs.mean(), # avg_lon_with_prvs\\n                        \\'lat\\':  df_trip_code.avg_lat_with_prvs.mean(), # avg_lat_with_prvs\\n                        \\'trip_code\\': trip_code\\n                        } )\\n\\n    df_final =  pd.DataFrame(arr_trip_merged) \\n    \\n    # remove entries with stay_time < threshold_in_sec ( e.g. 1800 seconds)\\n    df_final = df_final[df_final[\\'stay_time\\']>=threshold_in_sec]\\n    df_final.to_csv(final_csv, index=False) \\n    \\n    return df_final\\n'"
      ]
     },
     "execution_count": 1,
     "metadata": {},
     "output_type": "execute_result"
    }
   ],
   "source": [
    "'''\n",
    "import pandas as pd\n",
    "from datetime import datetime\n",
    "\n",
    "#trip_code: consecutive trips within a day is assigned same trip_code ( else different trip code)\n",
    "# It is used for merging trips i.e. merge consecutive tripcount as a single output row \n",
    "def assign_trip_code(df_single_ap):\n",
    "    df_single_ap['trip_code']=None\n",
    "    df_single_ap = df_single_ap.reset_index(drop=True)\n",
    "    date_old = 0\n",
    "    trip_count_old = 0\n",
    "    trip_code = 0\n",
    "    \n",
    "    for idx,row in df_single_ap.iterrows():\n",
    "        #print(idx)\n",
    "        cur_trip_count = df_single_ap.iloc[idx].trip_prevs\n",
    "        cur_date = df_single_ap.iloc[idx].date\n",
    "        #print(cur_trip_count, trip_count_old, trip_code)\n",
    "        \n",
    "        if (trip_count_old ) == cur_trip_count:\n",
    "            df_single_ap.at[idx,'trip_code'] = str(trip_code)\n",
    "        elif ( ( (trip_count_old +1 ) == cur_trip_count) ):\n",
    "            if date_old == cur_date:\n",
    "                df_single_ap.at[idx,'trip_code'] =  str(trip_code)            \n",
    "            else:\n",
    "                trip_code += 1\n",
    "        else:\n",
    "            trip_code += 1\n",
    "            df_single_ap.at[idx,'trip_code'] =  str(trip_code)\n",
    "\n",
    "        trip_count_old = cur_trip_count\n",
    "        date_old = cur_date\n",
    "\n",
    "    return df_single_ap \n",
    "\n",
    "def read_input_data(csv_file):\n",
    "    df = pd.read_csv(csv_file,usecols=['serial','tripid','tripcount','tlm_datagettime','lat','lon'])\n",
    "    #df = pd.read_csv(csv_file)#,usecols=['serial','tripid','tripcount','tlm_datagettime','lat','lon'])\n",
    "\n",
    "    df.rename(columns = {'serial':'ap_id','tlm_datagettime':'timestamp'}, inplace = True)\n",
    "    df['timestamp'] = pd.to_datetime(df['timestamp'])\n",
    "    df=df.sort_values(by=['timestamp'])\n",
    "    df['date'] = pd.to_datetime(df['timestamp']).dt.date\n",
    "    return df\n",
    "\n",
    "\n",
    "def prepare_trip_summary(df):# summarize each trip\n",
    "    \n",
    "    arr_ap_ids = df.ap_id.unique()\n",
    "\n",
    "    arr_trip_summary = []\n",
    "    for ap_id in arr_ap_ids:\n",
    "        \n",
    "        df_single_ap = df.query(\"ap_id=='\"+ap_id+\"'\").copy()\n",
    "        df_single_ap = df_single_ap.sort_values(by=['timestamp'])\n",
    "        arr_trips = df_single_ap.tripcount.unique()\n",
    "\n",
    "        #trip_count = arr_trips[0]\n",
    "        #trip_count\n",
    "        ts_prevs = df_single_ap.timestamp.min()\n",
    "        lat_prevs = df_single_ap.iloc[0].lat\n",
    "        lon_prevs = df_single_ap.iloc[0].lon\n",
    "\n",
    "        trip_count_prevs = -9 #  small number (far below real trip_count value) for initialization purpose\n",
    "        for trip_count in arr_trips:\n",
    "\n",
    "            # process consicutive trips only e.g. trip_count_prevs = 12 and  trip_count=13\n",
    "            df_single_trip = df_single_ap.query(\"tripcount=='\"+str(trip_count)+\"'\").copy()\n",
    "            df_single_trip = df_single_trip.sort_values(by=['timestamp'])\n",
    "            max_ts = df_single_trip.timestamp.max()\n",
    "            min_ts= df_single_trip.timestamp.min()\n",
    "\n",
    "            stay_time =  min_ts - ts_prevs\n",
    "            trip_time = (max_ts - min_ts).total_seconds()\n",
    "\n",
    "            lat_min = df_single_trip.iloc[0].lat\n",
    "            lon_min = df_single_trip.iloc[0].lon\n",
    "            lat_max = df_single_trip.iloc[len(df_single_trip)-1].lat \n",
    "            lon_max = df_single_trip.iloc[len(df_single_trip)-1].lon\n",
    "\n",
    "            avg_lat = (lat_prevs + lat_min)/2\n",
    "            avg_lon = (lon_prevs + lon_min)/2\n",
    "\n",
    "            lat_prevs = lat_max\n",
    "            lon_prevs = lon_max\n",
    "\n",
    "            if ( trip_count_prevs  == trip_count-1):\n",
    "                \n",
    "              \n",
    "                if min_ts.date() != ts_prevs.date():\n",
    "                    trip_count_prevs = trip_count\n",
    "                    ts_prevs = max_ts\n",
    "                    #print ('SKIP: ', min_ts,ts_prevs)                    \n",
    "                    continue\n",
    "                    \n",
    "                #if ap_id=='AP520040':\n",
    "                    #print ( '\\t' ,trip_count_prevs, trip_count,' -- ', min_ts.date(), ts_prevs.date())\n",
    "                    \n",
    "                arr_trip_summary.append({\n",
    "                    'ap_id': ap_id,\n",
    "\n",
    "                    'trip_prevs': trip_count_prevs,\n",
    "                    'trip_count': trip_count,\n",
    "                    'ts_prevs': ts_prevs,\n",
    "                    'ts_min': min_ts,\n",
    "                    'stay_time': stay_time.total_seconds(),\n",
    "                    'avg_lon_with_prvs': avg_lon,\n",
    "                    'avg_lat_with_prvs': avg_lat,\n",
    "              \n",
    "                    })\n",
    "\n",
    "            trip_count_prevs = trip_count\n",
    "            ts_prevs = max_ts\n",
    "\n",
    "    trip_df =  pd.DataFrame(arr_trip_summary)      \n",
    "    trip_df['date'] = trip_df['ts_min'].dt.date\n",
    "\n",
    "    return trip_df\n",
    "\n",
    "\n",
    "# if multiple consecutive trips in a single day then merge them as single one\n",
    "def merge_consecutive_trips_in_single_day(trip_df, threshold_in_sec, final_csv):\n",
    "    \n",
    "    arr_ap_ids = trip_df.ap_id.unique()\n",
    "    arr_trip_merged = []\n",
    "    for ap_id in arr_ap_ids:\n",
    "        df_single_ap = trip_df.query(\"ap_id=='\"+ap_id+\"'\").copy()\n",
    "        \n",
    "        df_single_ap = assign_trip_code(df_single_ap)\n",
    "        #display(df_single_ap)\n",
    "\n",
    "        arr_trip_code = df_single_ap.trip_code.unique()\n",
    "\n",
    "        for trip_code in arr_trip_code:\n",
    "            df_trip_code = df_single_ap.query(\"trip_code=='\"+str(trip_code)+\"'\")\n",
    "\n",
    "            arr_trip_merged.append( {\n",
    "                        'ap_id': ap_id,\n",
    "                        'date':df_trip_code.date.min(),\n",
    "                        'trip_prevs': df_trip_code.trip_prevs.min(),\n",
    "                        'trip_count': df_trip_code.trip_count.max(),\n",
    "                        'ts_prevs_stop': df_trip_code.ts_prevs.min(),\n",
    "                        'timestamp': df_trip_code.ts_min.max(), # timnestamp of car starting \n",
    "                        'stay_time': df_trip_code.stay_time.sum(),\n",
    "                        'lon': df_trip_code.avg_lon_with_prvs.mean(), # avg_lon_with_prvs\n",
    "                        'lat':  df_trip_code.avg_lat_with_prvs.mean(), # avg_lat_with_prvs\n",
    "                        'trip_code': trip_code\n",
    "                        } )\n",
    "\n",
    "    df_final =  pd.DataFrame(arr_trip_merged) \n",
    "    \n",
    "    # remove entries with stay_time < threshold_in_sec ( e.g. 1800 seconds)\n",
    "    df_final = df_final[df_final['stay_time']>=threshold_in_sec]\n",
    "    df_final.to_csv(final_csv, index=False) \n",
    "    \n",
    "    return df_final\n",
    "'''    "
   ]
  },
  {
   "cell_type": "code",
   "execution_count": 2,
   "metadata": {},
   "outputs": [],
   "source": [
    "from functions import prepare_trip_summary, merge_consecutive_trips_in_single_day, read_input_data"
   ]
  },
  {
   "cell_type": "code",
   "execution_count": 4,
   "metadata": {},
   "outputs": [],
   "source": [
    "threshold_in_sec = 1800 # # remove entries with stay_time < 1800 seconds\n",
    "#input_csv='data/2019-04_2019-08_GyokuSendo.csv'\n",
    "#final_csv='data/2019-04_2019-08_GyokuSendo_staypoints_2.csv'\n",
    "\n",
    "input_csv='new_data/gpsdata_202001-03.csv'\n",
    "final_csv='new_data/output/gpsdata_202001-03_staypoints.csv'\n",
    "daily_vehicle_csv='new_data/output/gpsdata_202001-03_dailyvehicle.csv'\n",
    "'''\n",
    "input_csv= 'new_data/gpsdata_201803-12.csv'\n",
    "final_csv=  'new_data/output/gpsdata_201803-12_staypoints.csv'\n",
    "daily_vehicle_csv='new_data/output/gpsdata_201803-12_dailyvehicle.csv'\n",
    "'''\n",
    "\n",
    "df = read_input_data( input_csv )\n",
    "trip_df = prepare_trip_summary(df)\n",
    "#df_final = merge_consecutive_trips_in_single_day(trip_df, threshold_in_sec, final_csv)\n",
    "df_final = merge_consecutive_trips_in_single_day(trip_df, threshold_in_sec )\n",
    "#print(len(trip_df), len(df_final))"
   ]
  },
  {
   "cell_type": "code",
   "execution_count": 5,
   "metadata": {},
   "outputs": [],
   "source": [
    "#df = df.query(\"ap_id=='AP622732'\") "
   ]
  },
  {
   "cell_type": "markdown",
   "metadata": {},
   "source": [
    "# Count and save daily unique vehicles"
   ]
  },
  {
   "cell_type": "code",
   "execution_count": 6,
   "metadata": {},
   "outputs": [],
   "source": [
    "df_daily_unique_ap = df_final[['date','ap_id']]\n",
    "df_daily_unique_ap = df_daily_unique_ap.drop_duplicates(['date','ap_id'])\n",
    "df_daily=df_daily_unique_ap[['date','ap_id']].groupby('date').agg(['count']).reset_index()\n",
    "df_daily.to_csv(daily_vehicle_csv ,  index = False)"
   ]
  },
  {
   "cell_type": "code",
   "execution_count": null,
   "metadata": {},
   "outputs": [],
   "source": []
  },
  {
   "cell_type": "code",
   "execution_count": null,
   "metadata": {},
   "outputs": [],
   "source": []
  },
  {
   "cell_type": "code",
   "execution_count": null,
   "metadata": {},
   "outputs": [],
   "source": []
  },
  {
   "cell_type": "code",
   "execution_count": null,
   "metadata": {},
   "outputs": [],
   "source": []
  },
  {
   "cell_type": "code",
   "execution_count": null,
   "metadata": {},
   "outputs": [],
   "source": []
  },
  {
   "cell_type": "markdown",
   "metadata": {},
   "source": [
    "# Examine result and inoutdata"
   ]
  },
  {
   "cell_type": "code",
   "execution_count": null,
   "metadata": {},
   "outputs": [],
   "source": [
    "trip_df1 = df_final.query(\"ap_id=='AP622732'\")\n",
    "trip_df1.head(10)"
   ]
  },
  {
   "cell_type": "code",
   "execution_count": null,
   "metadata": {},
   "outputs": [],
   "source": [
    "#df.query(\"ap_id=='AP622732' and  tripcount >4000\")#.query(\"tripcount >4000\")"
   ]
  },
  {
   "cell_type": "code",
   "execution_count": null,
   "metadata": {},
   "outputs": [],
   "source": []
  },
  {
   "cell_type": "code",
   "execution_count": null,
   "metadata": {},
   "outputs": [],
   "source": []
  },
  {
   "cell_type": "code",
   "execution_count": null,
   "metadata": {},
   "outputs": [],
   "source": []
  }
 ],
 "metadata": {
  "kernelspec": {
   "display_name": "Python 3",
   "language": "python",
   "name": "python3"
  },
  "language_info": {
   "codemirror_mode": {
    "name": "ipython",
    "version": 3
   },
   "file_extension": ".py",
   "mimetype": "text/x-python",
   "name": "python",
   "nbconvert_exporter": "python",
   "pygments_lexer": "ipython3",
   "version": "3.6.9"
  }
 },
 "nbformat": 4,
 "nbformat_minor": 4
}
